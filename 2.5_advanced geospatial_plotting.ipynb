{
 "cells": [
  {
   "cell_type": "markdown",
   "id": "3d982e9e-0108-44ca-ae61-4da85f2d1d8c",
   "metadata": {},
   "source": [
    "# Importing Libraries"
   ]
  },
  {
   "cell_type": "code",
   "execution_count": 1,
   "id": "ba6f01ae-8e30-47b4-835c-726abcbef15c",
   "metadata": {},
   "outputs": [
    {
     "name": "stdout",
     "output_type": "stream",
     "text": [
      "Data file exists: True\n"
     ]
    }
   ],
   "source": [
    "import pandas as pd\n",
    "import os\n",
    "from pathlib import Path\n",
    "from keplergl import KeplerGl\n",
    "import json\n",
    "\n",
    "# Use your own directory\n",
    "DATA_FP = Path(\"C:/Users/faisa/Desktop/Data analysis/Python Specialization/Achievement 2/02 Data/Updated Data/df_2.4.csv\")\n",
    "\n",
    "# Create an output folder for results\n",
    "OUTPUT_DIR = DATA_FP.parent / \"Visualizations\"\n",
    "os.makedirs(OUTPUT_DIR, exist_ok=True)\n",
    "\n",
    "print(\"Data file exists:\", DATA_FP.exists())"
   ]
  },
  {
   "cell_type": "markdown",
   "id": "49db5659",
   "metadata": {},
   "source": [
    "# Advanced grospacial plotting"
   ]
  },
  {
   "cell_type": "markdown",
   "id": "2e74d0ab",
   "metadata": {},
   "source": [
    "## Loading the dataset"
   ]
  },
  {
   "cell_type": "code",
   "execution_count": 2,
   "id": "d1f48299-75d2-47c2-98c3-d933e0edd5c6",
   "metadata": {},
   "outputs": [
    {
     "name": "stdout",
     "output_type": "stream",
     "text": [
      "Columns available: ['Unnamed: 0', 'ride_id', 'rideable_type', 'started_at', 'ended_at', 'start_station_name', 'start_station_id', 'end_station_name', 'end_station_id', 'start_lat', 'start_lng', 'end_lat', 'end_lng', 'user_type', 'date', 'temperature', 'trip_duration', 'month']\n",
      "Rows: 895485\n"
     ]
    }
   ],
   "source": [
    "# loading the dataframe\n",
    "df = pd.read_csv(DATA_FP, parse_dates=['started_at', 'ended_at', 'date'], low_memory=False)\n",
    "\n",
    "print(\"Columns available:\", df.columns.tolist())\n",
    "print(\"Rows:\", len(df))"
   ]
  },
  {
   "cell_type": "code",
   "execution_count": 3,
   "id": "9d76694d-edcb-4d65-8b13-e56b2e2cfbfe",
   "metadata": {},
   "outputs": [],
   "source": [
    "# keeping only the required columns\n",
    "required_trip_cols = ['start_station_name', 'end_station_name', 'start_lat', 'start_lng', 'end_lat', 'end_lng']\n",
    "missing = [c for c in required_trip_cols if c not in df.columns]\n",
    "if missing:\n",
    "    raise RuntimeError(f'Missing required trip columns: {missing}')"
   ]
  },
  {
   "cell_type": "code",
   "execution_count": 4,
   "id": "a31b0bd9-3b86-4205-bdfe-a323e5acdf18",
   "metadata": {},
   "outputs": [
    {
     "data": {
      "text/plain": [
       "['start_station_name',\n",
       " 'end_station_name',\n",
       " 'start_lat',\n",
       " 'start_lng',\n",
       " 'end_lat',\n",
       " 'end_lng']"
      ]
     },
     "execution_count": 4,
     "metadata": {},
     "output_type": "execute_result"
    }
   ],
   "source": [
    "required_trip_cols"
   ]
  },
  {
   "cell_type": "markdown",
   "id": "ae441af9",
   "metadata": {},
   "source": [
    "## Creating \"Count\" columns and aggregating dataframe"
   ]
  },
  {
   "cell_type": "code",
   "execution_count": 5,
   "id": "8c340687-a9b3-48de-9cde-8cad586d991c",
   "metadata": {},
   "outputs": [
    {
     "name": "stdout",
     "output_type": "stream",
     "text": [
      "Original trip count: 895485\n",
      "Aggregated trip sum: 892281\n"
     ]
    }
   ],
   "source": [
    "# Add a column of 1 (each row = one trip)\n",
    "df['value'] = 1\n",
    "\n",
    "# Aggregate trips by start and end station\n",
    "df_grouped = (\n",
    "    df.groupby([\n",
    "        'start_station_name', 'end_station_name',\n",
    "        'start_lat', 'start_lng',\n",
    "        'end_lat', 'end_lng'\n",
    "    ])['value']\n",
    "    .sum()\n",
    "    .rename('trips')\n",
    "    .reset_index()\n",
    ")\n",
    "\n",
    "print(\"Original trip count:\", len(df))\n",
    "print(\"Aggregated trip sum:\", int(df_grouped['trips'].sum()))"
   ]
  },
  {
   "cell_type": "code",
   "execution_count": 6,
   "id": "07b91b43-5a1f-4026-94b1-540aae0aa64e",
   "metadata": {},
   "outputs": [
    {
     "data": {
      "text/html": [
       "<div>\n",
       "<style scoped>\n",
       "    .dataframe tbody tr th:only-of-type {\n",
       "        vertical-align: middle;\n",
       "    }\n",
       "\n",
       "    .dataframe tbody tr th {\n",
       "        vertical-align: top;\n",
       "    }\n",
       "\n",
       "    .dataframe thead th {\n",
       "        text-align: right;\n",
       "    }\n",
       "</style>\n",
       "<table border=\"1\" class=\"dataframe\">\n",
       "  <thead>\n",
       "    <tr style=\"text-align: right;\">\n",
       "      <th></th>\n",
       "      <th>start_station_name</th>\n",
       "      <th>end_station_name</th>\n",
       "      <th>start_lat</th>\n",
       "      <th>start_lng</th>\n",
       "      <th>end_lat</th>\n",
       "      <th>end_lng</th>\n",
       "      <th>trips</th>\n",
       "    </tr>\n",
       "  </thead>\n",
       "  <tbody>\n",
       "    <tr>\n",
       "      <th>0</th>\n",
       "      <td>11 St &amp; Washington St</td>\n",
       "      <td>11 St &amp; Washington St</td>\n",
       "      <td>40.747251</td>\n",
       "      <td>-74.027879</td>\n",
       "      <td>40.749985</td>\n",
       "      <td>-74.02715</td>\n",
       "      <td>1</td>\n",
       "    </tr>\n",
       "    <tr>\n",
       "      <th>1</th>\n",
       "      <td>11 St &amp; Washington St</td>\n",
       "      <td>11 St &amp; Washington St</td>\n",
       "      <td>40.749817</td>\n",
       "      <td>-74.027383</td>\n",
       "      <td>40.749985</td>\n",
       "      <td>-74.02715</td>\n",
       "      <td>1</td>\n",
       "    </tr>\n",
       "    <tr>\n",
       "      <th>2</th>\n",
       "      <td>11 St &amp; Washington St</td>\n",
       "      <td>11 St &amp; Washington St</td>\n",
       "      <td>40.749857</td>\n",
       "      <td>-74.027530</td>\n",
       "      <td>40.749985</td>\n",
       "      <td>-74.02715</td>\n",
       "      <td>1</td>\n",
       "    </tr>\n",
       "    <tr>\n",
       "      <th>3</th>\n",
       "      <td>11 St &amp; Washington St</td>\n",
       "      <td>11 St &amp; Washington St</td>\n",
       "      <td>40.749882</td>\n",
       "      <td>-74.027380</td>\n",
       "      <td>40.749985</td>\n",
       "      <td>-74.02715</td>\n",
       "      <td>1</td>\n",
       "    </tr>\n",
       "    <tr>\n",
       "      <th>4</th>\n",
       "      <td>11 St &amp; Washington St</td>\n",
       "      <td>11 St &amp; Washington St</td>\n",
       "      <td>40.749885</td>\n",
       "      <td>-74.027409</td>\n",
       "      <td>40.749985</td>\n",
       "      <td>-74.02715</td>\n",
       "      <td>1</td>\n",
       "    </tr>\n",
       "  </tbody>\n",
       "</table>\n",
       "</div>"
      ],
      "text/plain": [
       "      start_station_name       end_station_name  start_lat  start_lng  \\\n",
       "0  11 St & Washington St  11 St & Washington St  40.747251 -74.027879   \n",
       "1  11 St & Washington St  11 St & Washington St  40.749817 -74.027383   \n",
       "2  11 St & Washington St  11 St & Washington St  40.749857 -74.027530   \n",
       "3  11 St & Washington St  11 St & Washington St  40.749882 -74.027380   \n",
       "4  11 St & Washington St  11 St & Washington St  40.749885 -74.027409   \n",
       "\n",
       "     end_lat   end_lng  trips  \n",
       "0  40.749985 -74.02715      1  \n",
       "1  40.749985 -74.02715      1  \n",
       "2  40.749985 -74.02715      1  \n",
       "3  40.749985 -74.02715      1  \n",
       "4  40.749985 -74.02715      1  "
      ]
     },
     "execution_count": 6,
     "metadata": {},
     "output_type": "execute_result"
    }
   ],
   "source": [
    "df_grouped.head()"
   ]
  },
  {
   "cell_type": "markdown",
   "id": "133073a4",
   "metadata": {},
   "source": [
    "## Initializing Kepler.gl map"
   ]
  },
  {
   "cell_type": "code",
   "execution_count": 9,
   "id": "fa1f8db9-e218-4f0a-b0cb-9c196bfc28c6",
   "metadata": {},
   "outputs": [],
   "source": [
    "# Preparing arcs DataFrame for kepler\n",
    "arcs_df = pd.DataFrame({\n",
    "    'start_lat': df_grouped['start_lat'],\n",
    "    'start_lng': df_grouped['start_lng'],\n",
    "    'end_lat': df_grouped['end_lat'],\n",
    "    'end_lng': df_grouped['end_lng'],\n",
    "    'start_station_name': df_grouped['start_station_name'],\n",
    "    'end_station_name': df_grouped['end_station_name'],\n",
    "    'trips': df_grouped['trips'],\n",
    "})\n",
    "\n",
    "# Limit to top 500 trips\n",
    "# TOP_N = 500\n",
    "# top_arcs = arcs_df.nlargest(TOP_N, 'trips').copy()\n"
   ]
  },
  {
   "cell_type": "code",
   "execution_count": 17,
   "id": "a4e3e6ec-75b8-455b-a494-02b188648e9f",
   "metadata": {},
   "outputs": [
    {
     "name": "stdout",
     "output_type": "stream",
     "text": [
      "User Guide: https://docs.kepler.gl/docs/keplergl-jupyter\n"
     ]
    },
    {
     "data": {
      "application/vnd.jupyter.widget-view+json": {
       "model_id": "cee048f596e24a1d931dabf096a14bc7",
       "version_major": 2,
       "version_minor": 0
      },
      "text/plain": [
       "KeplerGl(data={'popular_trips':         start_lat  start_lng    end_lat    end_lng     start_station_name  \\\n",
       "0…"
      ]
     },
     "execution_count": 17,
     "metadata": {},
     "output_type": "execute_result"
    }
   ],
   "source": [
    "# initializing the map and customizing the map inside kepler.gl map\n",
    "m = KeplerGl(height=800, data={\"popular_trips\": arcs_df})\n",
    "m"
   ]
  },
  {
   "cell_type": "code",
   "execution_count": 12,
   "id": "7344e6bc",
   "metadata": {},
   "outputs": [],
   "source": [
    "# saving the settings\n",
    "config = m.config"
   ]
  },
  {
   "cell_type": "markdown",
   "id": "d1f98994",
   "metadata": {},
   "source": [
    "## Saving and exporting the customized map."
   ]
  },
  {
   "cell_type": "code",
   "execution_count": 13,
   "id": "ef31c4e0",
   "metadata": {},
   "outputs": [
    {
     "name": "stdout",
     "output_type": "stream",
     "text": [
      "Map saved to Citibike bike trips.html!\n"
     ]
    }
   ],
   "source": [
    "m.save_to_html(file_name='Citibike bike trips.html', read_only = False, config = config)"
   ]
  },
  {
   "cell_type": "code",
   "execution_count": 14,
   "id": "053c55ea",
   "metadata": {},
   "outputs": [],
   "source": [
    "# Exporting the config file as a json file\n",
    "import json\n",
    "with open(\"config.json\", \"w\") as outfile:\n",
    "    json.dump(config, outfile)"
   ]
  },
  {
   "cell_type": "markdown",
   "id": "559ae777-24d1-4407-be2f-dc3f848a0c54",
   "metadata": {},
   "source": [
    "In this visualization, I customized the Kepler map to highlight CitiBike trip flows.\n",
    "\n",
    "I changed station points to green so they stand out against the base map.\n",
    "\n",
    "I added an Arc Layer connecting start and end stations, with arc thickness and color mapped to count, so busier routes are emphasized.\n",
    "\n",
    "I used a yellow color for the start of the journey and reddish for the end of the journey to clearly distinguish between them.\n",
    "\n",
    "I also added a filter on count, which allows me to dynamically explore only the busiest trip flows, specifically over 500 trips."
   ]
  },
  {
   "cell_type": "markdown",
   "id": "07791020",
   "metadata": {},
   "source": []
  }
 ],
 "metadata": {
  "kernelspec": {
   "display_name": "citibike",
   "language": "python",
   "name": "python3"
  },
  "language_info": {
   "codemirror_mode": {
    "name": "ipython",
    "version": 3
   },
   "file_extension": ".py",
   "mimetype": "text/x-python",
   "name": "python",
   "nbconvert_exporter": "python",
   "pygments_lexer": "ipython3",
   "version": "3.10.18"
  }
 },
 "nbformat": 4,
 "nbformat_minor": 5
}
