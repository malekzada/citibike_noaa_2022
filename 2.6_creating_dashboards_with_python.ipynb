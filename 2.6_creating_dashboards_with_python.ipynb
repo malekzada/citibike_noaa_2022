{
 "cells": [
  {
   "cell_type": "code",
   "execution_count": 2,
   "id": "fb56ec4d-768e-424c-bc9a-890b37e693a8",
   "metadata": {},
   "outputs": [],
   "source": [
    "# importing libraries\n",
    "import streamlit as st\n",
    "import pandas as pd\n",
    "import numpy as np\n",
    "import os\n",
    "import plotly.express as px\n",
    "from plotly.subplots import make_subplots\n",
    "import plotly.graph_objects as go\n",
    "import matplotlib.pyplot as plt\n",
    "from datetime import datetime as dt\n",
    "from streamlit_keplergl import keplergl_static\n",
    "from pathlib import Path\n"
   ]
  },
  {
   "cell_type": "code",
   "execution_count": 3,
   "id": "f5cc9a76-a008-4ae0-9c0a-3ae2ad26cc6e",
   "metadata": {},
   "outputs": [],
   "source": [
    "# setting dataframe path\n",
    "data = Path(\"C:/Users/faisa/Desktop/Data analysis/Python Specialization/Achievement 2/02 Data/Updated Data/df_2.4.csv\")"
   ]
  },
  {
   "cell_type": "code",
   "execution_count": 4,
   "id": "2aaa3acd-bc92-4ce6-919c-0188f3c5e335",
   "metadata": {},
   "outputs": [],
   "source": [
    "# loading the merged dataframe of weather + trips\n",
    "df = pd.read_csv(data, index_col=0)"
   ]
  },
  {
   "cell_type": "code",
   "execution_count": 5,
   "id": "1f811bbe-aafc-4c5f-be2f-93175bc07dfc",
   "metadata": {},
   "outputs": [
    {
     "data": {
      "text/html": [
       "<div>\n",
       "<style scoped>\n",
       "    .dataframe tbody tr th:only-of-type {\n",
       "        vertical-align: middle;\n",
       "    }\n",
       "\n",
       "    .dataframe tbody tr th {\n",
       "        vertical-align: top;\n",
       "    }\n",
       "\n",
       "    .dataframe thead th {\n",
       "        text-align: right;\n",
       "    }\n",
       "</style>\n",
       "<table border=\"1\" class=\"dataframe\">\n",
       "  <thead>\n",
       "    <tr style=\"text-align: right;\">\n",
       "      <th></th>\n",
       "      <th>ride_id</th>\n",
       "      <th>rideable_type</th>\n",
       "      <th>started_at</th>\n",
       "      <th>ended_at</th>\n",
       "      <th>start_station_name</th>\n",
       "      <th>start_station_id</th>\n",
       "      <th>end_station_name</th>\n",
       "      <th>end_station_id</th>\n",
       "      <th>start_lat</th>\n",
       "      <th>start_lng</th>\n",
       "      <th>end_lat</th>\n",
       "      <th>end_lng</th>\n",
       "      <th>user_type</th>\n",
       "      <th>date</th>\n",
       "      <th>temperature</th>\n",
       "      <th>trip_duration</th>\n",
       "      <th>month</th>\n",
       "    </tr>\n",
       "  </thead>\n",
       "  <tbody>\n",
       "    <tr>\n",
       "      <th>0</th>\n",
       "      <td>CA5837152804D4B5</td>\n",
       "      <td>electric_bike</td>\n",
       "      <td>2022-01-26 18:50:39</td>\n",
       "      <td>2022-01-26 18:51:53</td>\n",
       "      <td>12 St &amp; Sinatra Dr N</td>\n",
       "      <td>HB201</td>\n",
       "      <td>12 St &amp; Sinatra Dr N</td>\n",
       "      <td>HB201</td>\n",
       "      <td>40.750604</td>\n",
       "      <td>-74.024020</td>\n",
       "      <td>40.750604</td>\n",
       "      <td>-74.024020</td>\n",
       "      <td>member</td>\n",
       "      <td>2022-01-26</td>\n",
       "      <td>-2.3</td>\n",
       "      <td>1.233333</td>\n",
       "      <td>January</td>\n",
       "    </tr>\n",
       "    <tr>\n",
       "      <th>1</th>\n",
       "      <td>BA06A5E45B6601D2</td>\n",
       "      <td>classic_bike</td>\n",
       "      <td>2022-01-28 13:14:07</td>\n",
       "      <td>2022-01-28 13:20:23</td>\n",
       "      <td>Essex Light Rail</td>\n",
       "      <td>JC038</td>\n",
       "      <td>Essex Light Rail</td>\n",
       "      <td>JC038</td>\n",
       "      <td>40.712774</td>\n",
       "      <td>-74.036486</td>\n",
       "      <td>40.712774</td>\n",
       "      <td>-74.036486</td>\n",
       "      <td>member</td>\n",
       "      <td>2022-01-28</td>\n",
       "      <td>0.1</td>\n",
       "      <td>6.266667</td>\n",
       "      <td>January</td>\n",
       "    </tr>\n",
       "    <tr>\n",
       "      <th>2</th>\n",
       "      <td>7B6827D7B9508D93</td>\n",
       "      <td>classic_bike</td>\n",
       "      <td>2022-01-10 19:55:13</td>\n",
       "      <td>2022-01-10 20:00:37</td>\n",
       "      <td>Essex Light Rail</td>\n",
       "      <td>JC038</td>\n",
       "      <td>Essex Light Rail</td>\n",
       "      <td>JC038</td>\n",
       "      <td>40.712774</td>\n",
       "      <td>-74.036486</td>\n",
       "      <td>40.712774</td>\n",
       "      <td>-74.036486</td>\n",
       "      <td>member</td>\n",
       "      <td>2022-01-10</td>\n",
       "      <td>1.6</td>\n",
       "      <td>5.400000</td>\n",
       "      <td>January</td>\n",
       "    </tr>\n",
       "    <tr>\n",
       "      <th>3</th>\n",
       "      <td>6E5864EA6FCEC90D</td>\n",
       "      <td>electric_bike</td>\n",
       "      <td>2022-01-26 07:54:57</td>\n",
       "      <td>2022-01-26 07:55:22</td>\n",
       "      <td>12 St &amp; Sinatra Dr N</td>\n",
       "      <td>HB201</td>\n",
       "      <td>12 St &amp; Sinatra Dr N</td>\n",
       "      <td>HB201</td>\n",
       "      <td>40.750604</td>\n",
       "      <td>-74.024020</td>\n",
       "      <td>40.750604</td>\n",
       "      <td>-74.024020</td>\n",
       "      <td>member</td>\n",
       "      <td>2022-01-26</td>\n",
       "      <td>-2.3</td>\n",
       "      <td>0.416667</td>\n",
       "      <td>January</td>\n",
       "    </tr>\n",
       "    <tr>\n",
       "      <th>4</th>\n",
       "      <td>E24954255BBDE32D</td>\n",
       "      <td>electric_bike</td>\n",
       "      <td>2022-01-13 18:44:46</td>\n",
       "      <td>2022-01-13 18:45:43</td>\n",
       "      <td>12 St &amp; Sinatra Dr N</td>\n",
       "      <td>HB201</td>\n",
       "      <td>12 St &amp; Sinatra Dr N</td>\n",
       "      <td>HB201</td>\n",
       "      <td>40.750604</td>\n",
       "      <td>-74.024020</td>\n",
       "      <td>40.750604</td>\n",
       "      <td>-74.024020</td>\n",
       "      <td>member</td>\n",
       "      <td>2022-01-13</td>\n",
       "      <td>4.0</td>\n",
       "      <td>0.950000</td>\n",
       "      <td>January</td>\n",
       "    </tr>\n",
       "  </tbody>\n",
       "</table>\n",
       "</div>"
      ],
      "text/plain": [
       "            ride_id  rideable_type           started_at             ended_at  \\\n",
       "0  CA5837152804D4B5  electric_bike  2022-01-26 18:50:39  2022-01-26 18:51:53   \n",
       "1  BA06A5E45B6601D2   classic_bike  2022-01-28 13:14:07  2022-01-28 13:20:23   \n",
       "2  7B6827D7B9508D93   classic_bike  2022-01-10 19:55:13  2022-01-10 20:00:37   \n",
       "3  6E5864EA6FCEC90D  electric_bike  2022-01-26 07:54:57  2022-01-26 07:55:22   \n",
       "4  E24954255BBDE32D  electric_bike  2022-01-13 18:44:46  2022-01-13 18:45:43   \n",
       "\n",
       "     start_station_name start_station_id      end_station_name end_station_id  \\\n",
       "0  12 St & Sinatra Dr N            HB201  12 St & Sinatra Dr N          HB201   \n",
       "1      Essex Light Rail            JC038      Essex Light Rail          JC038   \n",
       "2      Essex Light Rail            JC038      Essex Light Rail          JC038   \n",
       "3  12 St & Sinatra Dr N            HB201  12 St & Sinatra Dr N          HB201   \n",
       "4  12 St & Sinatra Dr N            HB201  12 St & Sinatra Dr N          HB201   \n",
       "\n",
       "   start_lat  start_lng    end_lat    end_lng user_type        date  \\\n",
       "0  40.750604 -74.024020  40.750604 -74.024020    member  2022-01-26   \n",
       "1  40.712774 -74.036486  40.712774 -74.036486    member  2022-01-28   \n",
       "2  40.712774 -74.036486  40.712774 -74.036486    member  2022-01-10   \n",
       "3  40.750604 -74.024020  40.750604 -74.024020    member  2022-01-26   \n",
       "4  40.750604 -74.024020  40.750604 -74.024020    member  2022-01-13   \n",
       "\n",
       "   temperature  trip_duration    month  \n",
       "0         -2.3       1.233333  January  \n",
       "1          0.1       6.266667  January  \n",
       "2          1.6       5.400000  January  \n",
       "3         -2.3       0.416667  January  \n",
       "4          4.0       0.950000  January  "
      ]
     },
     "execution_count": 5,
     "metadata": {},
     "output_type": "execute_result"
    }
   ],
   "source": [
    "df.head()"
   ]
  },
  {
   "cell_type": "code",
   "execution_count": 5,
   "id": "70341944-e86f-48d6-a56c-91952b46d8a8",
   "metadata": {},
   "outputs": [],
   "source": [
    "## Groupby\n",
    "\n",
    "df['value'] = 1 \n",
    "df_groupby_bar = df.groupby('start_station_name', as_index=False).agg({'value': 'sum'})\n",
    "top20 = df_groupby_bar.nlargest(20, 'value')"
   ]
  },
  {
   "cell_type": "code",
   "execution_count": 6,
   "id": "01dd47af-9163-4d93-8d21-2f4fb917cd29",
   "metadata": {},
   "outputs": [
    {
     "data": {
      "application/vnd.plotly.v1+json": {
       "config": {
        "plotlyServerURL": "https://plot.ly"
       },
       "data": [
        {
         "type": "bar",
         "x": [
          "Grove St PATH",
          "South Waterfront Walkway - Sinatra Dr & 1 St",
          "Hoboken Terminal - River St & Hudson Pl",
          "Hoboken Terminal - Hudson St & Hudson Pl",
          "City Hall - Washington St & 1 St",
          "Newport Pkwy",
          "Hamilton Park",
          "Newport PATH",
          "Hoboken Ave at Monmouth St",
          "Marin Light Rail",
          "12 St & Sinatra Dr N",
          "14 St Ferry - 14 St & Shipyard Ln",
          "Columbus Dr at Exchange Pl",
          "Hudson St & 4 St",
          "Harborside",
          "11 St & Washington St",
          "Washington St",
          "Liberty Light Rail",
          "8 St & Washington St",
          "Madison St & 1 St"
         ],
         "y": {
          "_inputArray": {
           "0": 42556,
           "1": 34245,
           "10": 17137,
           "11": 17066,
           "12": 16731,
           "13": 15883,
           "14": 15754,
           "15": 15502,
           "16": 15101,
           "17": 14563,
           "18": 14423,
           "19": 14124,
           "2": 33020,
           "3": 30244,
           "4": 23289,
           "5": 21961,
           "6": 20477,
           "7": 19965,
           "8": 19501,
           "9": 19230,
           "bdata": "PKYAAMWFAAD8gAAAJHYAAPlaAADJVQAA/U8AAP1NAAAtTAAAHksAAPFCAACqQgAAW0EAAAs+AACKPQAAjjwAAP06AADjOAAAVzgAACw3AAA=",
           "dtype": "i4",
           "shape": "20"
          },
          "bdata": "PKYAAMWFAAD8gAAAJHYAAPlaAADJVQAA/U8AAP1NAAAtTAAAHksAAPFCAACqQgAAW0EAAAs+AACKPQAAjjwAAP06AADjOAAAVzgAACw3AAA=",
          "dtype": "i4"
         }
        }
       ],
       "layout": {
        "autosize": true,
        "template": {
         "data": {
          "candlestick": [
           {
            "decreasing": {
             "line": {
              "color": "#000033"
             }
            },
            "increasing": {
             "line": {
              "color": "#000032"
             }
            },
            "type": "candlestick"
           }
          ],
          "contour": [
           {
            "colorscale": [
             [
              0,
              "#000011"
             ],
             [
              0.1111111111111111,
              "#000012"
             ],
             [
              0.2222222222222222,
              "#000013"
             ],
             [
              0.3333333333333333,
              "#000014"
             ],
             [
              0.4444444444444444,
              "#000015"
             ],
             [
              0.5555555555555556,
              "#000016"
             ],
             [
              0.6666666666666666,
              "#000017"
             ],
             [
              0.7777777777777778,
              "#000018"
             ],
             [
              0.8888888888888888,
              "#000019"
             ],
             [
              1,
              "#000020"
             ]
            ],
            "type": "contour"
           }
          ],
          "contourcarpet": [
           {
            "colorscale": [
             [
              0,
              "#000011"
             ],
             [
              0.1111111111111111,
              "#000012"
             ],
             [
              0.2222222222222222,
              "#000013"
             ],
             [
              0.3333333333333333,
              "#000014"
             ],
             [
              0.4444444444444444,
              "#000015"
             ],
             [
              0.5555555555555556,
              "#000016"
             ],
             [
              0.6666666666666666,
              "#000017"
             ],
             [
              0.7777777777777778,
              "#000018"
             ],
             [
              0.8888888888888888,
              "#000019"
             ],
             [
              1,
              "#000020"
             ]
            ],
            "type": "contourcarpet"
           }
          ],
          "heatmap": [
           {
            "colorscale": [
             [
              0,
              "#000011"
             ],
             [
              0.1111111111111111,
              "#000012"
             ],
             [
              0.2222222222222222,
              "#000013"
             ],
             [
              0.3333333333333333,
              "#000014"
             ],
             [
              0.4444444444444444,
              "#000015"
             ],
             [
              0.5555555555555556,
              "#000016"
             ],
             [
              0.6666666666666666,
              "#000017"
             ],
             [
              0.7777777777777778,
              "#000018"
             ],
             [
              0.8888888888888888,
              "#000019"
             ],
             [
              1,
              "#000020"
             ]
            ],
            "type": "heatmap"
           }
          ],
          "histogram2d": [
           {
            "colorscale": [
             [
              0,
              "#000011"
             ],
             [
              0.1111111111111111,
              "#000012"
             ],
             [
              0.2222222222222222,
              "#000013"
             ],
             [
              0.3333333333333333,
              "#000014"
             ],
             [
              0.4444444444444444,
              "#000015"
             ],
             [
              0.5555555555555556,
              "#000016"
             ],
             [
              0.6666666666666666,
              "#000017"
             ],
             [
              0.7777777777777778,
              "#000018"
             ],
             [
              0.8888888888888888,
              "#000019"
             ],
             [
              1,
              "#000020"
             ]
            ],
            "type": "histogram2d"
           }
          ],
          "icicle": [
           {
            "textfont": {
             "color": "white"
            },
            "type": "icicle"
           }
          ],
          "sankey": [
           {
            "textfont": {
             "color": "#000036"
            },
            "type": "sankey"
           }
          ],
          "scatter": [
           {
            "marker": {
             "line": {
              "width": 0
             }
            },
            "type": "scatter"
           }
          ],
          "table": [
           {
            "cells": {
             "fill": {
              "color": "#000038"
             },
             "font": {
              "color": "#000037"
             },
             "line": {
              "color": "#000039"
             }
            },
            "header": {
             "fill": {
              "color": "#000040"
             },
             "font": {
              "color": "#000036"
             },
             "line": {
              "color": "#000039"
             }
            },
            "type": "table"
           }
          ],
          "waterfall": [
           {
            "connector": {
             "line": {
              "color": "#000036",
              "width": 2
             }
            },
            "decreasing": {
             "marker": {
              "color": "#000033"
             }
            },
            "increasing": {
             "marker": {
              "color": "#000032"
             }
            },
            "totals": {
             "marker": {
              "color": "#000034"
             }
            },
            "type": "waterfall"
           }
          ]
         },
         "layout": {
          "coloraxis": {
           "colorscale": [
            [
             0,
             "#000011"
            ],
            [
             0.1111111111111111,
             "#000012"
            ],
            [
             0.2222222222222222,
             "#000013"
            ],
            [
             0.3333333333333333,
             "#000014"
            ],
            [
             0.4444444444444444,
             "#000015"
            ],
            [
             0.5555555555555556,
             "#000016"
            ],
            [
             0.6666666666666666,
             "#000017"
            ],
            [
             0.7777777777777778,
             "#000018"
            ],
            [
             0.8888888888888888,
             "#000019"
            ],
            [
             1,
             "#000020"
            ]
           ]
          },
          "colorscale": {
           "diverging": [
            [
             0,
             "#000021"
            ],
            [
             0.1,
             "#000022"
            ],
            [
             0.2,
             "#000023"
            ],
            [
             0.3,
             "#000024"
            ],
            [
             0.4,
             "#000025"
            ],
            [
             0.5,
             "#000026"
            ],
            [
             0.6,
             "#000027"
            ],
            [
             0.7,
             "#000028"
            ],
            [
             0.8,
             "#000029"
            ],
            [
             0.9,
             "#000030"
            ],
            [
             1,
             "#000031"
            ]
           ],
           "sequential": [
            [
             0,
             "#000011"
            ],
            [
             0.1111111111111111,
             "#000012"
            ],
            [
             0.2222222222222222,
             "#000013"
            ],
            [
             0.3333333333333333,
             "#000014"
            ],
            [
             0.4444444444444444,
             "#000015"
            ],
            [
             0.5555555555555556,
             "#000016"
            ],
            [
             0.6666666666666666,
             "#000017"
            ],
            [
             0.7777777777777778,
             "#000018"
            ],
            [
             0.8888888888888888,
             "#000019"
            ],
            [
             1,
             "#000020"
            ]
           ],
           "sequentialminus": [
            [
             0,
             "#000011"
            ],
            [
             0.1111111111111111,
             "#000012"
            ],
            [
             0.2222222222222222,
             "#000013"
            ],
            [
             0.3333333333333333,
             "#000014"
            ],
            [
             0.4444444444444444,
             "#000015"
            ],
            [
             0.5555555555555556,
             "#000016"
            ],
            [
             0.6666666666666666,
             "#000017"
            ],
            [
             0.7777777777777778,
             "#000018"
            ],
            [
             0.8888888888888888,
             "#000019"
            ],
            [
             1,
             "#000020"
            ]
           ]
          },
          "colorway": [
           "#000001",
           "#000002",
           "#000003",
           "#000004",
           "#000005",
           "#000006",
           "#000007",
           "#000008",
           "#000009",
           "#000010"
          ]
         }
        },
        "xaxis": {
         "autorange": true,
         "range": [
          -0.5,
          19.5
         ],
         "type": "category"
        },
        "yaxis": {
         "autorange": true,
         "range": [
          0,
          44795.78947368421
         ],
         "type": "linear"
        }
       }
      }
     },
     "metadata": {},
     "output_type": "display_data"
    }
   ],
   "source": [
    "fig = go.Figure(go.Bar(x = top20['start_station_name'], y = top20['value']))\n",
    "fig.show()"
   ]
  },
  {
   "cell_type": "code",
   "execution_count": 14,
   "id": "12e1d321-e474-4040-b4a3-fed80964dc64",
   "metadata": {},
   "outputs": [],
   "source": [
    "# create trips column\n",
    "df['trips'] = 1\n",
    "\n",
    "# Trips per station\n",
    "top_stations = df.groupby('start_station_name')['trips'].sum().reset_index()\n",
    "\n",
    "# Trips per day\n",
    "daily_data = df.groupby('date')['trips'].sum().reset_index()"
   ]
  },
  {
   "cell_type": "code",
   "execution_count": 16,
   "id": "b648bd7f-7896-4e54-9142-6e35cad8a403",
   "metadata": {},
   "outputs": [
    {
     "data": {
      "text/html": [
       "<div>\n",
       "<style scoped>\n",
       "    .dataframe tbody tr th:only-of-type {\n",
       "        vertical-align: middle;\n",
       "    }\n",
       "\n",
       "    .dataframe tbody tr th {\n",
       "        vertical-align: top;\n",
       "    }\n",
       "\n",
       "    .dataframe thead th {\n",
       "        text-align: right;\n",
       "    }\n",
       "</style>\n",
       "<table border=\"1\" class=\"dataframe\">\n",
       "  <thead>\n",
       "    <tr style=\"text-align: right;\">\n",
       "      <th></th>\n",
       "      <th>ride_id</th>\n",
       "      <th>rideable_type</th>\n",
       "      <th>started_at</th>\n",
       "      <th>ended_at</th>\n",
       "      <th>start_station_name</th>\n",
       "      <th>start_station_id</th>\n",
       "      <th>end_station_name</th>\n",
       "      <th>end_station_id</th>\n",
       "      <th>start_lat</th>\n",
       "      <th>start_lng</th>\n",
       "      <th>end_lat</th>\n",
       "      <th>end_lng</th>\n",
       "      <th>user_type</th>\n",
       "      <th>date</th>\n",
       "      <th>temperature</th>\n",
       "      <th>trip_duration</th>\n",
       "      <th>month</th>\n",
       "      <th>trips</th>\n",
       "    </tr>\n",
       "  </thead>\n",
       "  <tbody>\n",
       "    <tr>\n",
       "      <th>0</th>\n",
       "      <td>CA5837152804D4B5</td>\n",
       "      <td>electric_bike</td>\n",
       "      <td>2022-01-26 18:50:39</td>\n",
       "      <td>2022-01-26 18:51:53</td>\n",
       "      <td>12 St &amp; Sinatra Dr N</td>\n",
       "      <td>HB201</td>\n",
       "      <td>12 St &amp; Sinatra Dr N</td>\n",
       "      <td>HB201</td>\n",
       "      <td>40.750604</td>\n",
       "      <td>-74.024020</td>\n",
       "      <td>40.750604</td>\n",
       "      <td>-74.024020</td>\n",
       "      <td>member</td>\n",
       "      <td>2022-01-26</td>\n",
       "      <td>-2.3</td>\n",
       "      <td>1.233333</td>\n",
       "      <td>January</td>\n",
       "      <td>1</td>\n",
       "    </tr>\n",
       "    <tr>\n",
       "      <th>1</th>\n",
       "      <td>BA06A5E45B6601D2</td>\n",
       "      <td>classic_bike</td>\n",
       "      <td>2022-01-28 13:14:07</td>\n",
       "      <td>2022-01-28 13:20:23</td>\n",
       "      <td>Essex Light Rail</td>\n",
       "      <td>JC038</td>\n",
       "      <td>Essex Light Rail</td>\n",
       "      <td>JC038</td>\n",
       "      <td>40.712774</td>\n",
       "      <td>-74.036486</td>\n",
       "      <td>40.712774</td>\n",
       "      <td>-74.036486</td>\n",
       "      <td>member</td>\n",
       "      <td>2022-01-28</td>\n",
       "      <td>0.1</td>\n",
       "      <td>6.266667</td>\n",
       "      <td>January</td>\n",
       "      <td>1</td>\n",
       "    </tr>\n",
       "    <tr>\n",
       "      <th>2</th>\n",
       "      <td>7B6827D7B9508D93</td>\n",
       "      <td>classic_bike</td>\n",
       "      <td>2022-01-10 19:55:13</td>\n",
       "      <td>2022-01-10 20:00:37</td>\n",
       "      <td>Essex Light Rail</td>\n",
       "      <td>JC038</td>\n",
       "      <td>Essex Light Rail</td>\n",
       "      <td>JC038</td>\n",
       "      <td>40.712774</td>\n",
       "      <td>-74.036486</td>\n",
       "      <td>40.712774</td>\n",
       "      <td>-74.036486</td>\n",
       "      <td>member</td>\n",
       "      <td>2022-01-10</td>\n",
       "      <td>1.6</td>\n",
       "      <td>5.400000</td>\n",
       "      <td>January</td>\n",
       "      <td>1</td>\n",
       "    </tr>\n",
       "    <tr>\n",
       "      <th>3</th>\n",
       "      <td>6E5864EA6FCEC90D</td>\n",
       "      <td>electric_bike</td>\n",
       "      <td>2022-01-26 07:54:57</td>\n",
       "      <td>2022-01-26 07:55:22</td>\n",
       "      <td>12 St &amp; Sinatra Dr N</td>\n",
       "      <td>HB201</td>\n",
       "      <td>12 St &amp; Sinatra Dr N</td>\n",
       "      <td>HB201</td>\n",
       "      <td>40.750604</td>\n",
       "      <td>-74.024020</td>\n",
       "      <td>40.750604</td>\n",
       "      <td>-74.024020</td>\n",
       "      <td>member</td>\n",
       "      <td>2022-01-26</td>\n",
       "      <td>-2.3</td>\n",
       "      <td>0.416667</td>\n",
       "      <td>January</td>\n",
       "      <td>1</td>\n",
       "    </tr>\n",
       "    <tr>\n",
       "      <th>4</th>\n",
       "      <td>E24954255BBDE32D</td>\n",
       "      <td>electric_bike</td>\n",
       "      <td>2022-01-13 18:44:46</td>\n",
       "      <td>2022-01-13 18:45:43</td>\n",
       "      <td>12 St &amp; Sinatra Dr N</td>\n",
       "      <td>HB201</td>\n",
       "      <td>12 St &amp; Sinatra Dr N</td>\n",
       "      <td>HB201</td>\n",
       "      <td>40.750604</td>\n",
       "      <td>-74.024020</td>\n",
       "      <td>40.750604</td>\n",
       "      <td>-74.024020</td>\n",
       "      <td>member</td>\n",
       "      <td>2022-01-13</td>\n",
       "      <td>4.0</td>\n",
       "      <td>0.950000</td>\n",
       "      <td>January</td>\n",
       "      <td>1</td>\n",
       "    </tr>\n",
       "  </tbody>\n",
       "</table>\n",
       "</div>"
      ],
      "text/plain": [
       "            ride_id  rideable_type           started_at             ended_at  \\\n",
       "0  CA5837152804D4B5  electric_bike  2022-01-26 18:50:39  2022-01-26 18:51:53   \n",
       "1  BA06A5E45B6601D2   classic_bike  2022-01-28 13:14:07  2022-01-28 13:20:23   \n",
       "2  7B6827D7B9508D93   classic_bike  2022-01-10 19:55:13  2022-01-10 20:00:37   \n",
       "3  6E5864EA6FCEC90D  electric_bike  2022-01-26 07:54:57  2022-01-26 07:55:22   \n",
       "4  E24954255BBDE32D  electric_bike  2022-01-13 18:44:46  2022-01-13 18:45:43   \n",
       "\n",
       "     start_station_name start_station_id      end_station_name end_station_id  \\\n",
       "0  12 St & Sinatra Dr N            HB201  12 St & Sinatra Dr N          HB201   \n",
       "1      Essex Light Rail            JC038      Essex Light Rail          JC038   \n",
       "2      Essex Light Rail            JC038      Essex Light Rail          JC038   \n",
       "3  12 St & Sinatra Dr N            HB201  12 St & Sinatra Dr N          HB201   \n",
       "4  12 St & Sinatra Dr N            HB201  12 St & Sinatra Dr N          HB201   \n",
       "\n",
       "   start_lat  start_lng    end_lat    end_lng user_type        date  \\\n",
       "0  40.750604 -74.024020  40.750604 -74.024020    member  2022-01-26   \n",
       "1  40.712774 -74.036486  40.712774 -74.036486    member  2022-01-28   \n",
       "2  40.712774 -74.036486  40.712774 -74.036486    member  2022-01-10   \n",
       "3  40.750604 -74.024020  40.750604 -74.024020    member  2022-01-26   \n",
       "4  40.750604 -74.024020  40.750604 -74.024020    member  2022-01-13   \n",
       "\n",
       "   temperature  trip_duration    month  trips  \n",
       "0         -2.3       1.233333  January      1  \n",
       "1          0.1       6.266667  January      1  \n",
       "2          1.6       5.400000  January      1  \n",
       "3         -2.3       0.416667  January      1  \n",
       "4          4.0       0.950000  January      1  "
      ]
     },
     "execution_count": 16,
     "metadata": {},
     "output_type": "execute_result"
    }
   ],
   "source": [
    "df.head()"
   ]
  },
  {
   "cell_type": "markdown",
   "id": "895b0b44-6fea-4c0d-910d-15cf3d301f3e",
   "metadata": {},
   "source": [
    "# Most popular stations"
   ]
  },
  {
   "cell_type": "code",
   "execution_count": 6,
   "id": "60033d53-9d14-4d5b-a95e-95a589720eab",
   "metadata": {},
   "outputs": [
    {
     "data": {
      "application/vnd.plotly.v1+json": {
       "config": {
        "plotlyServerURL": "https://plot.ly"
       },
       "data": [
        {
         "hovertemplate": "Station=%{x}<br>Number of Trips=%{marker.color}<extra></extra>",
         "legendgroup": "",
         "marker": {
          "color": {
           "_inputArray": {
            "0": 42556,
            "1": 34245,
            "10": 17137,
            "11": 17066,
            "12": 16731,
            "13": 15883,
            "14": 15754,
            "15": 15502,
            "16": 15101,
            "17": 14563,
            "18": 14423,
            "19": 14124,
            "2": 33020,
            "3": 30244,
            "4": 23289,
            "5": 21961,
            "6": 20477,
            "7": 19965,
            "8": 19501,
            "9": 19230,
            "bdata": "PKYAAMWFAAD8gAAAJHYAAPlaAADJVQAA/U8AAP1NAAAtTAAAHksAAPFCAACqQgAAW0EAAAs+AACKPQAAjjwAAP06AADjOAAAVzgAACw3AAA=",
            "dtype": "i4",
            "shape": "20"
           },
           "bdata": "PKYAAMWFAAD8gAAAJHYAAPlaAADJVQAA/U8AAP1NAAAtTAAAHksAAPFCAACqQgAAW0EAAAs+AACKPQAAjjwAAP06AADjOAAAVzgAACw3AAA=",
           "dtype": "i4"
          },
          "coloraxis": "coloraxis",
          "pattern": {
           "shape": ""
          }
         },
         "name": "",
         "orientation": "v",
         "showlegend": false,
         "textposition": "auto",
         "type": "bar",
         "x": [
          "Grove St PATH",
          "South Waterfront Walkway - Sinatra Dr & 1 St",
          "Hoboken Terminal - River St & Hudson Pl",
          "Hoboken Terminal - Hudson St & Hudson Pl",
          "City Hall - Washington St & 1 St",
          "Newport Pkwy",
          "Hamilton Park",
          "Newport PATH",
          "Hoboken Ave at Monmouth St",
          "Marin Light Rail",
          "12 St & Sinatra Dr N",
          "14 St Ferry - 14 St & Shipyard Ln",
          "Columbus Dr at Exchange Pl",
          "Hudson St & 4 St",
          "Harborside",
          "11 St & Washington St",
          "Washington St",
          "Liberty Light Rail",
          "8 St & Washington St",
          "Madison St & 1 St"
         ],
         "xaxis": "x",
         "y": {
          "_inputArray": {
           "0": 42556,
           "1": 34245,
           "10": 17137,
           "11": 17066,
           "12": 16731,
           "13": 15883,
           "14": 15754,
           "15": 15502,
           "16": 15101,
           "17": 14563,
           "18": 14423,
           "19": 14124,
           "2": 33020,
           "3": 30244,
           "4": 23289,
           "5": 21961,
           "6": 20477,
           "7": 19965,
           "8": 19501,
           "9": 19230,
           "bdata": "PKYAAMWFAAD8gAAAJHYAAPlaAADJVQAA/U8AAP1NAAAtTAAAHksAAPFCAACqQgAAW0EAAAs+AACKPQAAjjwAAP06AADjOAAAVzgAACw3AAA=",
           "dtype": "i4",
           "shape": "20"
          },
          "bdata": "PKYAAMWFAAD8gAAAJHYAAPlaAADJVQAA/U8AAP1NAAAtTAAAHksAAPFCAACqQgAAW0EAAAs+AACKPQAAjjwAAP06AADjOAAAVzgAACw3AAA=",
          "dtype": "i4"
         },
         "yaxis": "y"
        }
       ],
       "layout": {
        "autosize": true,
        "barmode": "relative",
        "coloraxis": {
         "colorbar": {
          "title": {
           "text": "Number of Trips"
          }
         },
         "colorscale": [
          [
           0,
           "#440154"
          ],
          [
           0.1111111111111111,
           "#482878"
          ],
          [
           0.2222222222222222,
           "#3e4989"
          ],
          [
           0.3333333333333333,
           "#31688e"
          ],
          [
           0.4444444444444444,
           "#26828e"
          ],
          [
           0.5555555555555556,
           "#1f9e89"
          ],
          [
           0.6666666666666666,
           "#35b779"
          ],
          [
           0.7777777777777778,
           "#6ece58"
          ],
          [
           0.8888888888888888,
           "#b5de2b"
          ],
          [
           1,
           "#fde725"
          ]
         ]
        },
        "legend": {
         "tracegroupgap": 0
        },
        "template": {
         "data": {
          "candlestick": [
           {
            "decreasing": {
             "line": {
              "color": "#000033"
             }
            },
            "increasing": {
             "line": {
              "color": "#000032"
             }
            },
            "type": "candlestick"
           }
          ],
          "contour": [
           {
            "colorscale": [
             [
              0,
              "#000011"
             ],
             [
              0.1111111111111111,
              "#000012"
             ],
             [
              0.2222222222222222,
              "#000013"
             ],
             [
              0.3333333333333333,
              "#000014"
             ],
             [
              0.4444444444444444,
              "#000015"
             ],
             [
              0.5555555555555556,
              "#000016"
             ],
             [
              0.6666666666666666,
              "#000017"
             ],
             [
              0.7777777777777778,
              "#000018"
             ],
             [
              0.8888888888888888,
              "#000019"
             ],
             [
              1,
              "#000020"
             ]
            ],
            "type": "contour"
           }
          ],
          "contourcarpet": [
           {
            "colorscale": [
             [
              0,
              "#000011"
             ],
             [
              0.1111111111111111,
              "#000012"
             ],
             [
              0.2222222222222222,
              "#000013"
             ],
             [
              0.3333333333333333,
              "#000014"
             ],
             [
              0.4444444444444444,
              "#000015"
             ],
             [
              0.5555555555555556,
              "#000016"
             ],
             [
              0.6666666666666666,
              "#000017"
             ],
             [
              0.7777777777777778,
              "#000018"
             ],
             [
              0.8888888888888888,
              "#000019"
             ],
             [
              1,
              "#000020"
             ]
            ],
            "type": "contourcarpet"
           }
          ],
          "heatmap": [
           {
            "colorscale": [
             [
              0,
              "#000011"
             ],
             [
              0.1111111111111111,
              "#000012"
             ],
             [
              0.2222222222222222,
              "#000013"
             ],
             [
              0.3333333333333333,
              "#000014"
             ],
             [
              0.4444444444444444,
              "#000015"
             ],
             [
              0.5555555555555556,
              "#000016"
             ],
             [
              0.6666666666666666,
              "#000017"
             ],
             [
              0.7777777777777778,
              "#000018"
             ],
             [
              0.8888888888888888,
              "#000019"
             ],
             [
              1,
              "#000020"
             ]
            ],
            "type": "heatmap"
           }
          ],
          "histogram2d": [
           {
            "colorscale": [
             [
              0,
              "#000011"
             ],
             [
              0.1111111111111111,
              "#000012"
             ],
             [
              0.2222222222222222,
              "#000013"
             ],
             [
              0.3333333333333333,
              "#000014"
             ],
             [
              0.4444444444444444,
              "#000015"
             ],
             [
              0.5555555555555556,
              "#000016"
             ],
             [
              0.6666666666666666,
              "#000017"
             ],
             [
              0.7777777777777778,
              "#000018"
             ],
             [
              0.8888888888888888,
              "#000019"
             ],
             [
              1,
              "#000020"
             ]
            ],
            "type": "histogram2d"
           }
          ],
          "icicle": [
           {
            "textfont": {
             "color": "white"
            },
            "type": "icicle"
           }
          ],
          "sankey": [
           {
            "textfont": {
             "color": "#000036"
            },
            "type": "sankey"
           }
          ],
          "scatter": [
           {
            "marker": {
             "line": {
              "width": 0
             }
            },
            "type": "scatter"
           }
          ],
          "table": [
           {
            "cells": {
             "fill": {
              "color": "#000038"
             },
             "font": {
              "color": "#000037"
             },
             "line": {
              "color": "#000039"
             }
            },
            "header": {
             "fill": {
              "color": "#000040"
             },
             "font": {
              "color": "#000036"
             },
             "line": {
              "color": "#000039"
             }
            },
            "type": "table"
           }
          ],
          "waterfall": [
           {
            "connector": {
             "line": {
              "color": "#000036",
              "width": 2
             }
            },
            "decreasing": {
             "marker": {
              "color": "#000033"
             }
            },
            "increasing": {
             "marker": {
              "color": "#000032"
             }
            },
            "totals": {
             "marker": {
              "color": "#000034"
             }
            },
            "type": "waterfall"
           }
          ]
         },
         "layout": {
          "coloraxis": {
           "colorscale": [
            [
             0,
             "#000011"
            ],
            [
             0.1111111111111111,
             "#000012"
            ],
            [
             0.2222222222222222,
             "#000013"
            ],
            [
             0.3333333333333333,
             "#000014"
            ],
            [
             0.4444444444444444,
             "#000015"
            ],
            [
             0.5555555555555556,
             "#000016"
            ],
            [
             0.6666666666666666,
             "#000017"
            ],
            [
             0.7777777777777778,
             "#000018"
            ],
            [
             0.8888888888888888,
             "#000019"
            ],
            [
             1,
             "#000020"
            ]
           ]
          },
          "colorscale": {
           "diverging": [
            [
             0,
             "#000021"
            ],
            [
             0.1,
             "#000022"
            ],
            [
             0.2,
             "#000023"
            ],
            [
             0.3,
             "#000024"
            ],
            [
             0.4,
             "#000025"
            ],
            [
             0.5,
             "#000026"
            ],
            [
             0.6,
             "#000027"
            ],
            [
             0.7,
             "#000028"
            ],
            [
             0.8,
             "#000029"
            ],
            [
             0.9,
             "#000030"
            ],
            [
             1,
             "#000031"
            ]
           ],
           "sequential": [
            [
             0,
             "#000011"
            ],
            [
             0.1111111111111111,
             "#000012"
            ],
            [
             0.2222222222222222,
             "#000013"
            ],
            [
             0.3333333333333333,
             "#000014"
            ],
            [
             0.4444444444444444,
             "#000015"
            ],
            [
             0.5555555555555556,
             "#000016"
            ],
            [
             0.6666666666666666,
             "#000017"
            ],
            [
             0.7777777777777778,
             "#000018"
            ],
            [
             0.8888888888888888,
             "#000019"
            ],
            [
             1,
             "#000020"
            ]
           ],
           "sequentialminus": [
            [
             0,
             "#000011"
            ],
            [
             0.1111111111111111,
             "#000012"
            ],
            [
             0.2222222222222222,
             "#000013"
            ],
            [
             0.3333333333333333,
             "#000014"
            ],
            [
             0.4444444444444444,
             "#000015"
            ],
            [
             0.5555555555555556,
             "#000016"
            ],
            [
             0.6666666666666666,
             "#000017"
            ],
            [
             0.7777777777777778,
             "#000018"
            ],
            [
             0.8888888888888888,
             "#000019"
            ],
            [
             1,
             "#000020"
            ]
           ]
          },
          "colorway": [
           "#000001",
           "#000002",
           "#000003",
           "#000004",
           "#000005",
           "#000006",
           "#000007",
           "#000008",
           "#000009",
           "#000010"
          ]
         }
        },
        "title": {
         "text": "Top 20 Most Popular Starting Stations"
        },
        "xaxis": {
         "anchor": "y",
         "autorange": true,
         "domain": [
          0,
          1
         ],
         "range": [
          -0.5,
          19.5
         ],
         "tickangle": -45,
         "title": {
          "text": "Station"
         },
         "type": "category"
        },
        "yaxis": {
         "anchor": "x",
         "autorange": true,
         "domain": [
          0,
          1
         ],
         "range": [
          0,
          44795.78947368421
         ],
         "title": {
          "text": "Number of Trips"
         },
         "type": "linear"
        }
       }
      },
      "image/png": "[encoded data removed]"
     },
     "metadata": {},
     "output_type": "display_data"
    }
   ],
   "source": [
    "import plotly.express as px\n",
    "\n",
    "# Get top 20 stations\n",
    "top_stations = df[\"start_station_name\"].value_counts().head(20).reset_index()\n",
    "top_stations.columns = [\"start_station_name\", \"trip_count\"]\n",
    "\n",
    "# Vertical bar chart\n",
    "fig_bar = px.bar(\n",
    "    top_stations,\n",
    "    x=\"start_station_name\",\n",
    "    y=\"trip_count\",\n",
    "    title=\"Top 20 Most Popular Starting Stations\",\n",
    "    labels={\"trip_count\": \"Number of Trips\", \"start_station_name\": \"Station\"},\n",
    "    color=\"trip_count\",\n",
    "    color_continuous_scale=\"viridis\"\n",
    ")\n",
    "\n",
    "# Optional: rotate x-axis labels for readability\n",
    "fig_bar.update_layout(xaxis_tickangle=-45)\n",
    "\n",
    "fig_bar.show()\n"
   ]
  },
  {
   "cell_type": "markdown",
   "id": "14ef0854-4e79-4113-9911-602cca12b037",
   "metadata": {},
   "source": [
    "# Dual-axis line chart: Trips vs Temperature"
   ]
  },
  {
   "cell_type": "code",
   "execution_count": 7,
   "id": "ccf385fa-992a-45e3-8e0c-a500a9ca8b4f",
   "metadata": {},
   "outputs": [],
   "source": [
    "# Aggregateing daily data\n",
    "daily_trips = df.groupby(\"date\")[\"ride_id\"].count().reset_index(name=\"trip_count\")\n",
    "daily_temp = df.groupby(\"date\")[\"temperature\"].mean().reset_index(name=\"temperature\")\n",
    "daily = pd.merge(daily_trips, daily_temp, on=\"date\")"
   ]
  },
  {
   "cell_type": "code",
   "execution_count": 8,
   "id": "d50aa332-757b-41c6-a0cc-0f7a95db47d8",
   "metadata": {},
   "outputs": [
    {
     "data": {
      "application/vnd.plotly.v1+json": {
       "config": {
        "plotlyServerURL": "https://plot.ly"
       },
       "data": [
        {
         "line": {
          "color": "blue"
         },
         "name": "Trip Count",
         "type": "scatter",
         "x": [
          "2022-01-01",
          "2022-01-02",
          "2022-01-03",
          "2022-01-04",
          "2022-01-05",
          "2022-01-06",
          "2022-01-07",
          "2022-01-08",
          "2022-01-09",
          "2022-01-10",
          "2022-01-11",
          "2022-01-12",
          "2022-01-13",
          "2022-01-14",
          "2022-01-15",
          "2022-01-16",
          "2022-01-17",
          "2022-01-18",
          "2022-01-19",
          "2022-01-20",
          "2022-01-21",
          "2022-01-22",
          "2022-01-23",
          "2022-01-24",
          "2022-01-25",
          "2022-01-26",
          "2022-01-27",
          "2022-01-28",
          "2022-01-29",
          "2022-01-30",
          "2022-01-31",
          "2022-02-01",
          "2022-02-02",
          "2022-02-03",
          "2022-02-04",
          "2022-02-05",
          "2022-02-06",
          "2022-02-07",
          "2022-02-08",
          "2022-02-09",
          "2022-02-10",
          "2022-02-11",
          "2022-02-12",
          "2022-02-13",
          "2022-02-14",
          "2022-02-15",
          "2022-02-16",
          "2022-02-17",
          "2022-02-18",
          "2022-02-19",
          "2022-02-20",
          "2022-02-21",
          "2022-02-22",
          "2022-02-23",
          "2022-02-24",
          "2022-02-25",
          "2022-02-26",
          "2022-02-27",
          "2022-02-28",
          "2022-03-01",
          "2022-03-02",
          "2022-03-03",
          "2022-03-04",
          "2022-03-05",
          "2022-03-06",
          "2022-03-07",
          "2022-03-08",
          "2022-03-09",
          "2022-03-10",
          "2022-03-11",
          "2022-03-12",
          "2022-03-13",
          "2022-03-14",
          "2022-03-15",
          "2022-03-16",
          "2022-03-17",
          "2022-03-18",
          "2022-03-19",
          "2022-03-20",
          "2022-03-21",
          "2022-03-22",
          "2022-03-23",
          "2022-03-24",
          "2022-03-25",
          "2022-03-26",
          "2022-03-27",
          "2022-03-28",
          "2022-03-29",
          "2022-03-30",
          "2022-03-31",
          "2022-04-01",
          "2022-04-02",
          "2022-04-03",
          "2022-04-04",
          "2022-04-05",
          "2022-04-06",
          "2022-04-07",
          "2022-04-08",
          "2022-04-09",
          "2022-04-10",
          "2022-04-11",
          "2022-04-12",
          "2022-04-13",
          "2022-04-14",
          "2022-04-15",
          "2022-04-16",
          "2022-04-17",
          "2022-04-18",
          "2022-04-19",
          "2022-04-20",
          "2022-04-21",
          "2022-04-22",
          "2022-04-23",
          "2022-04-24",
          "2022-04-25",
          "2022-04-26",
          "2022-04-27",
          "2022-04-28",
          "2022-04-29",
          "2022-04-30",
          "2022-05-01",
          "2022-05-02",
          "2022-05-03",
          "2022-05-04",
          "2022-05-05",
          "2022-05-06",
          "2022-05-07",
          "2022-05-08",
          "2022-05-09",
          "2022-05-10",
          "2022-05-11",
          "2022-05-12",
          "2022-05-13",
          "2022-05-14",
          "2022-05-15",
          "2022-05-16",
          "2022-05-17",
          "2022-05-18",
          "2022-05-19",
          "2022-05-20",
          "2022-05-21",
          "2022-05-22",
          "2022-05-23",
          "2022-05-24",
          "2022-05-25",
          "2022-05-26",
          "2022-05-27",
          "2022-05-28",
          "2022-05-29",
          "2022-05-30",
          "2022-05-31",
          "2022-06-01",
          "2022-06-02",
          "2022-06-03",
          "2022-06-04",
          "2022-06-05",
          "2022-06-06",
          "2022-06-07",
          "2022-06-08",
          "2022-06-09",
          "2022-06-10",
          "2022-06-11",
          "2022-06-12",
          "2022-06-13",
          "2022-06-14",
          "2022-06-15",
          "2022-06-16",
          "2022-06-17",
          "2022-06-18",
          "2022-06-19",
          "2022-06-20",
          "2022-06-21",
          "2022-06-22",
          "2022-06-23",
          "2022-06-24",
          "2022-06-25",
          "2022-06-26",
          "2022-06-27",
          "2022-06-28",
          "2022-06-29",
          "2022-06-30",
          "2022-07-01",
          "2022-07-02",
          "2022-07-03",
          "2022-07-04",
          "2022-07-05",
          "2022-07-06",
          "2022-07-07",
          "2022-07-08",
          "2022-07-09",
          "2022-07-10",
          "2022-07-11",
          "2022-07-12",
          "2022-07-13",
          "2022-07-14",
          "2022-07-15",
          "2022-07-16",
          "2022-07-17",
          "2022-07-18",
          "2022-07-19",
          "2022-07-20",
          "2022-07-21",
          "2022-07-22",
          "2022-07-23",
          "2022-07-24",
          "2022-07-25",
          "2022-07-26",
          "2022-07-27",
          "2022-07-28",
          "2022-07-29",
          "2022-07-30",
          "2022-07-31",
          "2022-08-01",
          "2022-08-02",
          "2022-08-03",
          "2022-08-04",
          "2022-08-05",
          "2022-08-06",
          "2022-08-07",
          "2022-08-08",
          "2022-08-09",
          "2022-08-10",
          "2022-08-11",
          "2022-08-12",
          "2022-08-13",
          "2022-08-14",
          "2022-08-15",
          "2022-08-16",
          "2022-08-17",
          "2022-08-18",
          "2022-08-19",
          "2022-08-20",
          "2022-08-21",
          "2022-08-22",
          "2022-08-23",
          "2022-08-24",
          "2022-08-25",
          "2022-08-26",
          "2022-08-27",
          "2022-08-28",
          "2022-08-29",
          "2022-08-30",
          "2022-08-31",
          "2022-09-01",
          "2022-09-02",
          "2022-09-03",
          "2022-09-04",
          "2022-09-05",
          "2022-09-06",
          "2022-09-07",
          "2022-09-08",
          "2022-09-09",
          "2022-09-10",
          "2022-09-11",
          "2022-09-12",
          "2022-09-13",
          "2022-09-14",
          "2022-09-15",
          "2022-09-16",
          "2022-09-17",
          "2022-09-18",
          "2022-09-19",
          "2022-09-20",
          "2022-09-21",
          "2022-09-22",
          "2022-09-23",
          "2022-09-24",
          "2022-09-25",
          "2022-09-26",
          "2022-09-27",
          "2022-09-28",
          "2022-09-29",
          "2022-09-30",
          "2022-10-01",
          "2022-10-02",
          "2022-10-03",
          "2022-10-04",
          "2022-10-05",
          "2022-10-06",
          "2022-10-07",
          "2022-10-08",
          "2022-10-09",
          "2022-10-10",
          "2022-10-11",
          "2022-10-12",
          "2022-10-13",
          "2022-10-14",
          "2022-10-15",
          "2022-10-16",
          "2022-10-17",
          "2022-10-18",
          "2022-10-19",
          "2022-10-20",
          "2022-10-21",
          "2022-10-22",
          "2022-10-23",
          "2022-10-24",
          "2022-10-25",
          "2022-10-26",
          "2022-10-27",
          "2022-10-28",
          "2022-10-29",
          "2022-10-30",
          "2022-10-31",
          "2022-11-01",
          "2022-11-02",
          "2022-11-03",
          "2022-11-04",
          "2022-11-05",
          "2022-11-06",
          "2022-11-07",
          "2022-11-08",
          "2022-11-09",
          "2022-11-10",
          "2022-11-11",
          "2022-11-12",
          "2022-11-13",
          "2022-11-14",
          "2022-11-15",
          "2022-11-16",
          "2022-11-17",
          "2022-11-18",
          "2022-11-19",
          "2022-11-20",
          "2022-11-21",
          "2022-11-22",
          "2022-11-23",
          "2022-11-24",
          "2022-11-25",
          "2022-11-26",
          "2022-11-27",
          "2022-11-28",
          "2022-11-29",
          "2022-11-30",
          "2022-12-01",
          "2022-12-02",
          "2022-12-03",
          "2022-12-04",
          "2022-12-05",
          "2022-12-06",
          "2022-12-07",
          "2022-12-08",
          "2022-12-09",
          "2022-12-10",
          "2022-12-11",
          "2022-12-12",
          "2022-12-13",
          "2022-12-14",
          "2022-12-15",
          "2022-12-16",
          "2022-12-17",
          "2022-12-18",
          "2022-12-19",
          "2022-12-20",
          "2022-12-21",
          "2022-12-22",
          "2022-12-23",
          "2022-12-24",
          "2022-12-25",
          "2022-12-26",
          "2022-12-27",
          "2022-12-28",
          "2022-12-29",
          "2022-12-30",
          "2022-12-31"
         ],
         "y": {
          "_inputArray": {
           "0": 592,
           "1": 1248,
           "10": 683,
           "100": 1926,
           "101": 2380,
           "102": 2572,
           "103": 2323,
           "104": 2849,
           "105": 2333,
           "106": 1300,
           "107": 1467,
           "108": 1635,
           "109": 2344,
           "11": 1057,
           "110": 2135,
           "111": 2847,
           "112": 2927,
           "113": 2656,
           "114": 1925,
           "115": 2035,
           "116": 2083,
           "117": 2095,
           "118": 2372,
           "119": 3115,
           "12": 1208,
           "120": 3163,
           "121": 1557,
           "122": 2429,
           "123": 2161,
           "124": 3108,
           "125": 886,
           "126": 577,
           "127": 1535,
           "128": 2361,
           "129": 2624,
           "13": 1091,
           "130": 2699,
           "131": 2828,
           "132": 2530,
           "133": 2214,
           "134": 3361,
           "135": 2207,
           "136": 3126,
           "137": 3190,
           "138": 2407,
           "139": 2134,
           "14": 670,
           "140": 3816,
           "141": 3735,
           "142": 2942,
           "143": 2837,
           "144": 2995,
           "145": 3029,
           "146": 2251,
           "147": 2398,
           "148": 3199,
           "149": 3348,
           "15": 506,
           "150": 2835,
           "151": 2299,
           "152": 2679,
           "153": 3547,
           "154": 4245,
           "155": 4092,
           "156": 3188,
           "157": 2921,
           "158": 3538,
           "159": 3392,
           "16": 730,
           "160": 3700,
           "161": 4064,
           "162": 3016,
           "163": 3438,
           "164": 3687,
           "165": 3831,
           "166": 2804,
           "167": 3929,
           "168": 3585,
           "169": 3437,
           "17": 1042,
           "170": 3811,
           "171": 2953,
           "172": 2761,
           "173": 3348,
           "174": 3798,
           "175": 4031,
           "176": 3898,
           "177": 2339,
           "178": 3609,
           "179": 3735,
           "18": 1374,
           "180": 3624,
           "181": 3381,
           "182": 3288,
           "183": 2974,
           "184": 4497,
           "185": 2854,
           "186": 3451,
           "187": 3441,
           "188": 3079,
           "189": 4311,
           "19": 830,
           "190": 3784,
           "191": 3177,
           "192": 3277,
           "193": 3686,
           "194": 3687,
           "195": 3720,
           "196": 3824,
           "197": 3850,
           "198": 2378,
           "199": 3600,
           "2": 832,
           "20": 800,
           "200": 3510,
           "201": 3498,
           "202": 3469,
           "203": 3671,
           "204": 3153,
           "205": 2780,
           "206": 3522,
           "207": 3625,
           "208": 3558,
           "209": 3487,
           "21": 892,
           "210": 4175,
           "211": 3795,
           "212": 3084,
           "213": 3582,
           "214": 3830,
           "215": 3626,
           "216": 4005,
           "217": 4112,
           "218": 3563,
           "219": 3313,
           "22": 940,
           "220": 3499,
           "221": 3893,
           "222": 3634,
           "223": 4129,
           "224": 4298,
           "225": 4221,
           "226": 3643,
           "227": 3885,
           "228": 3676,
           "229": 3834,
           "23": 1026,
           "230": 3672,
           "231": 3967,
           "232": 3835,
           "233": 2455,
           "234": 3544,
           "235": 3759,
           "236": 3890,
           "237": 3793,
           "238": 4010,
           "239": 3704,
           "24": 1276,
           "240": 3472,
           "241": 3486,
           "242": 3817,
           "243": 3844,
           "244": 3751,
           "245": 3204,
           "246": 2965,
           "247": 2852,
           "248": 1213,
           "249": 3069,
           "25": 1149,
           "250": 3955,
           "251": 4196,
           "252": 4389,
           "253": 2169,
           "254": 3330,
           "255": 3457,
           "256": 3847,
           "257": 4065,
           "258": 3942,
           "259": 4527,
           "26": 1133,
           "260": 3975,
           "261": 2909,
           "262": 3618,
           "263": 3967,
           "264": 3023,
           "265": 3404,
           "266": 4039,
           "267": 2826,
           "268": 3310,
           "269": 3741,
           "27": 894,
           "270": 3593,
           "271": 3608,
           "272": 3459,
           "273": 1783,
           "274": 1519,
           "275": 1331,
           "276": 1571,
           "277": 2064,
           "278": 3805,
           "279": 3637,
           "28": 111,
           "280": 3264,
           "281": 3188,
           "282": 3009,
           "283": 3387,
           "284": 3563,
           "285": 2134,
           "286": 3503,
           "287": 3600,
           "288": 3271,
           "289": 2656,
           "29": 295,
           "290": 3091,
           "291": 3065,
           "292": 3169,
           "293": 3246,
           "294": 3573,
           "295": 1994,
           "296": 1980,
           "297": 3034,
           "298": 3469,
           "299": 3515,
           "3": 934,
           "30": 571,
           "300": 3215,
           "301": 3186,
           "302": 2814,
           "303": 2922,
           "304": 3035,
           "305": 3409,
           "306": 3493,
           "307": 3425,
           "308": 3745,
           "309": 3033,
           "31": 765,
           "310": 2984,
           "311": 3043,
           "312": 2892,
           "313": 3190,
           "314": 1675,
           "315": 3779,
           "316": 2215,
           "317": 2127,
           "318": 2017,
           "319": 2342,
           "32": 1028,
           "320": 2394,
           "321": 2295,
           "322": 2075,
           "323": 1460,
           "324": 1941,
           "325": 2318,
           "326": 2252,
           "327": 1160,
           "328": 1290,
           "329": 1746,
           "33": 653,
           "330": 1075,
           "331": 2202,
           "332": 2346,
           "333": 1751,
           "334": 2349,
           "335": 2391,
           "336": 1454,
           "337": 1995,
           "338": 2194,
           "339": 1565,
           "34": 498,
           "340": 2117,
           "341": 2568,
           "342": 2322,
           "343": 1989,
           "344": 1053,
           "345": 1776,
           "346": 1935,
           "347": 1950,
           "348": 1334,
           "349": 843,
           "35": 831,
           "350": 1896,
           "351": 1524,
           "352": 1545,
           "353": 1760,
           "354": 1886,
           "355": 1304,
           "356": 693,
           "357": 345,
           "358": 245,
           "359": 591,
           "36": 803,
           "360": 1049,
           "361": 1399,
           "362": 1601,
           "363": 1929,
           "364": 983,
           "37": 777,
           "38": 1349,
           "39": 1427,
           "4": 914,
           "40": 1558,
           "41": 1769,
           "42": 1983,
           "43": 577,
           "44": 858,
           "45": 1081,
           "46": 1362,
           "47": 1695,
           "48": 1262,
           "49": 803,
           "5": 1297,
           "50": 923,
           "51": 1457,
           "52": 1050,
           "53": 1823,
           "54": 1307,
           "55": 838,
           "56": 1198,
           "57": 1066,
           "58": 1170,
           "59": 1510,
           "6": 459,
           "60": 1804,
           "61": 1449,
           "62": 1465,
           "63": 1459,
           "64": 1659,
           "65": 1804,
           "66": 1604,
           "67": 732,
           "68": 1660,
           "69": 1960,
           "7": 713,
           "70": 460,
           "71": 781,
           "72": 1734,
           "73": 2133,
           "74": 2269,
           "75": 1414,
           "76": 2728,
           "77": 2594,
           "78": 1910,
           "79": 2021,
           "8": 636,
           "80": 2058,
           "81": 1653,
           "82": 1412,
           "83": 2195,
           "84": 1858,
           "85": 1303,
           "86": 1046,
           "87": 1438,
           "88": 1657,
           "89": 1901,
           "9": 859,
           "90": 1816,
           "91": 2193,
           "92": 1035,
           "93": 1837,
           "94": 2026,
           "95": 1364,
           "96": 952,
           "97": 2553,
           "98": 1933,
           "99": 1500,
           "bdata": "UALgBEADpgOSAxEFywHJAnwCWwOrAiEEuARDBJ4C+gHaAhIEXgU+AyADfAOsAwIE/AR9BG0EfgNvACcBOwL9AgQEjQLyAT8DIwMJA0UFkwUWBukGvwdBAloDOQRSBZ8G7gQjA5sDsQUaBB8HGwVGA64EKgSSBOYFDAepBbkFswV7BgwHRAbcAnwGqAfMAQ0DxgZVCN0IhgWoCiIKdgflBwoIdQaEBZMIQgcXBRYEngV5Bm0HGAeRCAsELQfqB1QFuAP5CY0H3AWGB0wJDAoTCSELHQkUBbsFYwYoCVcIHwtvC2AKhQfzByMILwhECSsMWwwVBn0JcQgkDHYDQQL/BTkJQAqLCgwL4gmmCCENnwg2DHYMZwlWCOgOlw5+CxULswvVC8sIXgl/DBQNEwv7CHcK2w2VEPwPdAxpC9INQA10DuAPyAtuDWcO9w70ClkPAQ5tDeMOiQvJChQN1g6/DzoPIwkZDpcOKA41DdgMnguRESYLew1xDQcM1xDIDmkMzQxmDmcOiA7wDgoPSgkQDrYNqg2NDVcOUQzcCsINKQ7mDZ8NTxDTDgwM/g32DioOpQ8QEOsN8QyrDTUPMg4hEMoQfRA7Di0PXA76DlgOfw/7DpcJ2A2vDjIP0Q6qD3gOkA2eDekOBA+nDoQMlQskC70E/QtzD2QQJRF5CAINgQ0HD+EPZg+vEYcPXQsiDn8PzwtMDccPCgvuDJ0OCQ4YDoMN9wbvBTMFIwYQCN0ONQ7ADHQMwQs7DesNVgivDRAOxwxgChMM+QthDK4M9Q3KB7wH2guNDbsNjwxyDP4KagvbC1ENpQ1hDaEO2QuoC+MLTAt2DIsGww6nCE8I4QcmCVoJ9wgbCLQFlQcOCcwIiAQKBdIGMwSaCCoJ1wYtCVcJrgXLB5IIHQZFCAgKEgnFBx0E8AaPB54HNgVLA2gH9AUJBuAGXgcYBbUCWQH1AE8CGQR3BUEGiQfXAw==",
           "dtype": "i2",
           "shape": "365"
          },
          "bdata": "UALgBEADpgOSAxEFywHJAnwCWwOrAiEEuARDBJ4C+gHaAhIEXgU+AyADfAOsAwIE/AR9BG0EfgNvACcBOwL9AgQEjQLyAT8DIwMJA0UFkwUWBukGvwdBAloDOQRSBZ8G7gQjA5sDsQUaBB8HGwVGA64EKgSSBOYFDAepBbkFswV7BgwHRAbcAnwGqAfMAQ0DxgZVCN0IhgWoCiIKdgflBwoIdQaEBZMIQgcXBRYEngV5Bm0HGAeRCAsELQfqB1QFuAP5CY0H3AWGB0wJDAoTCSELHQkUBbsFYwYoCVcIHwtvC2AKhQfzByMILwhECSsMWwwVBn0JcQgkDHYDQQL/BTkJQAqLCgwL4gmmCCENnwg2DHYMZwlWCOgOlw5+CxULswvVC8sIXgl/DBQNEwv7CHcK2w2VEPwPdAxpC9INQA10DuAPyAtuDWcO9w70ClkPAQ5tDeMOiQvJChQN1g6/DzoPIwkZDpcOKA41DdgMnguRESYLew1xDQcM1xDIDmkMzQxmDmcOiA7wDgoPSgkQDrYNqg2NDVcOUQzcCsINKQ7mDZ8NTxDTDgwM/g32DioOpQ8QEOsN8QyrDTUPMg4hEMoQfRA7Di0PXA76DlgOfw/7DpcJ2A2vDjIP0Q6qD3gOkA2eDekOBA+nDoQMlQskC70E/QtzD2QQJRF5CAINgQ0HD+EPZg+vEYcPXQsiDn8PzwtMDccPCgvuDJ0OCQ4YDoMN9wbvBTMFIwYQCN0ONQ7ADHQMwQs7DesNVgivDRAOxwxgChMM+QthDK4M9Q3KB7wH2guNDbsNjwxyDP4KagvbC1ENpQ1hDaEO2QuoC+MLTAt2DIsGww6nCE8I4QcmCVoJ9wgbCLQFlQcOCcwIiAQKBdIGMwSaCCoJ1wYtCVcJrgXLB5IIHQZFCAgKEgnFBx0E8AaPB54HNgVLA2gH9AUJBuAGXgcYBbUCWQH1AE8CGQR3BUEGiQfXAw==",
          "dtype": "i2"
         },
         "yaxis": "y"
        },
        {
         "line": {
          "color": "red"
         },
         "name": "Temperature (°C)",
         "type": "scatter",
         "x": [
          "2022-01-01",
          "2022-01-02",
          "2022-01-03",
          "2022-01-04",
          "2022-01-05",
          "2022-01-06",
          "2022-01-07",
          "2022-01-08",
          "2022-01-09",
          "2022-01-10",
          "2022-01-11",
          "2022-01-12",
          "2022-01-13",
          "2022-01-14",
          "2022-01-15",
          "2022-01-16",
          "2022-01-17",
          "2022-01-18",
          "2022-01-19",
          "2022-01-20",
          "2022-01-21",
          "2022-01-22",
          "2022-01-23",
          "2022-01-24",
          "2022-01-25",
          "2022-01-26",
          "2022-01-27",
          "2022-01-28",
          "2022-01-29",
          "2022-01-30",
          "2022-01-31",
          "2022-02-01",
          "2022-02-02",
          "2022-02-03",
          "2022-02-04",
          "2022-02-05",
          "2022-02-06",
          "2022-02-07",
          "2022-02-08",
          "2022-02-09",
          "2022-02-10",
          "2022-02-11",
          "2022-02-12",
          "2022-02-13",
          "2022-02-14",
          "2022-02-15",
          "2022-02-16",
          "2022-02-17",
          "2022-02-18",
          "2022-02-19",
          "2022-02-20",
          "2022-02-21",
          "2022-02-22",
          "2022-02-23",
          "2022-02-24",
          "2022-02-25",
          "2022-02-26",
          "2022-02-27",
          "2022-02-28",
          "2022-03-01",
          "2022-03-02",
          "2022-03-03",
          "2022-03-04",
          "2022-03-05",
          "2022-03-06",
          "2022-03-07",
          "2022-03-08",
          "2022-03-09",
          "2022-03-10",
          "2022-03-11",
          "2022-03-12",
          "2022-03-13",
          "2022-03-14",
          "2022-03-15",
          "2022-03-16",
          "2022-03-17",
          "2022-03-18",
          "2022-03-19",
          "2022-03-20",
          "2022-03-21",
          "2022-03-22",
          "2022-03-23",
          "2022-03-24",
          "2022-03-25",
          "2022-03-26",
          "2022-03-27",
          "2022-03-28",
          "2022-03-29",
          "2022-03-30",
          "2022-03-31",
          "2022-04-01",
          "2022-04-02",
          "2022-04-03",
          "2022-04-04",
          "2022-04-05",
          "2022-04-06",
          "2022-04-07",
          "2022-04-08",
          "2022-04-09",
          "2022-04-10",
          "2022-04-11",
          "2022-04-12",
          "2022-04-13",
          "2022-04-14",
          "2022-04-15",
          "2022-04-16",
          "2022-04-17",
          "2022-04-18",
          "2022-04-19",
          "2022-04-20",
          "2022-04-21",
          "2022-04-22",
          "2022-04-23",
          "2022-04-24",
          "2022-04-25",
          "2022-04-26",
          "2022-04-27",
          "2022-04-28",
          "2022-04-29",
          "2022-04-30",
          "2022-05-01",
          "2022-05-02",
          "2022-05-03",
          "2022-05-04",
          "2022-05-05",
          "2022-05-06",
          "2022-05-07",
          "2022-05-08",
          "2022-05-09",
          "2022-05-10",
          "2022-05-11",
          "2022-05-12",
          "2022-05-13",
          "2022-05-14",
          "2022-05-15",
          "2022-05-16",
          "2022-05-17",
          "2022-05-18",
          "2022-05-19",
          "2022-05-20",
          "2022-05-21",
          "2022-05-22",
          "2022-05-23",
          "2022-05-24",
          "2022-05-25",
          "2022-05-26",
          "2022-05-27",
          "2022-05-28",
          "2022-05-29",
          "2022-05-30",
          "2022-05-31",
          "2022-06-01",
          "2022-06-02",
          "2022-06-03",
          "2022-06-04",
          "2022-06-05",
          "2022-06-06",
          "2022-06-07",
          "2022-06-08",
          "2022-06-09",
          "2022-06-10",
          "2022-06-11",
          "2022-06-12",
          "2022-06-13",
          "2022-06-14",
          "2022-06-15",
          "2022-06-16",
          "2022-06-17",
          "2022-06-18",
          "2022-06-19",
          "2022-06-20",
          "2022-06-21",
          "2022-06-22",
          "2022-06-23",
          "2022-06-24",
          "2022-06-25",
          "2022-06-26",
          "2022-06-27",
          "2022-06-28",
          "2022-06-29",
          "2022-06-30",
          "2022-07-01",
          "2022-07-02",
          "2022-07-03",
          "2022-07-04",
          "2022-07-05",
          "2022-07-06",
          "2022-07-07",
          "2022-07-08",
          "2022-07-09",
          "2022-07-10",
          "2022-07-11",
          "2022-07-12",
          "2022-07-13",
          "2022-07-14",
          "2022-07-15",
          "2022-07-16",
          "2022-07-17",
          "2022-07-18",
          "2022-07-19",
          "2022-07-20",
          "2022-07-21",
          "2022-07-22",
          "2022-07-23",
          "2022-07-24",
          "2022-07-25",
          "2022-07-26",
          "2022-07-27",
          "2022-07-28",
          "2022-07-29",
          "2022-07-30",
          "2022-07-31",
          "2022-08-01",
          "2022-08-02",
          "2022-08-03",
          "2022-08-04",
          "2022-08-05",
          "2022-08-06",
          "2022-08-07",
          "2022-08-08",
          "2022-08-09",
          "2022-08-10",
          "2022-08-11",
          "2022-08-12",
          "2022-08-13",
          "2022-08-14",
          "2022-08-15",
          "2022-08-16",
          "2022-08-17",
          "2022-08-18",
          "2022-08-19",
          "2022-08-20",
          "2022-08-21",
          "2022-08-22",
          "2022-08-23",
          "2022-08-24",
          "2022-08-25",
          "2022-08-26",
          "2022-08-27",
          "2022-08-28",
          "2022-08-29",
          "2022-08-30",
          "2022-08-31",
          "2022-09-01",
          "2022-09-02",
          "2022-09-03",
          "2022-09-04",
          "2022-09-05",
          "2022-09-06",
          "2022-09-07",
          "2022-09-08",
          "2022-09-09",
          "2022-09-10",
          "2022-09-11",
          "2022-09-12",
          "2022-09-13",
          "2022-09-14",
          "2022-09-15",
          "2022-09-16",
          "2022-09-17",
          "2022-09-18",
          "2022-09-19",
          "2022-09-20",
          "2022-09-21",
          "2022-09-22",
          "2022-09-23",
          "2022-09-24",
          "2022-09-25",
          "2022-09-26",
          "2022-09-27",
          "2022-09-28",
          "2022-09-29",
          "2022-09-30",
          "2022-10-01",
          "2022-10-02",
          "2022-10-03",
          "2022-10-04",
          "2022-10-05",
          "2022-10-06",
          "2022-10-07",
          "2022-10-08",
          "2022-10-09",
          "2022-10-10",
          "2022-10-11",
          "2022-10-12",
          "2022-10-13",
          "2022-10-14",
          "2022-10-15",
          "2022-10-16",
          "2022-10-17",
          "2022-10-18",
          "2022-10-19",
          "2022-10-20",
          "2022-10-21",
          "2022-10-22",
          "2022-10-23",
          "2022-10-24",
          "2022-10-25",
          "2022-10-26",
          "2022-10-27",
          "2022-10-28",
          "2022-10-29",
          "2022-10-30",
          "2022-10-31",
          "2022-11-01",
          "2022-11-02",
          "2022-11-03",
          "2022-11-04",
          "2022-11-05",
          "2022-11-06",
          "2022-11-07",
          "2022-11-08",
          "2022-11-09",
          "2022-11-10",
          "2022-11-11",
          "2022-11-12",
          "2022-11-13",
          "2022-11-14",
          "2022-11-15",
          "2022-11-16",
          "2022-11-17",
          "2022-11-18",
          "2022-11-19",
          "2022-11-20",
          "2022-11-21",
          "2022-11-22",
          "2022-11-23",
          "2022-11-24",
          "2022-11-25",
          "2022-11-26",
          "2022-11-27",
          "2022-11-28",
          "2022-11-29",
          "2022-11-30",
          "2022-12-01",
          "2022-12-02",
          "2022-12-03",
          "2022-12-04",
          "2022-12-05",
          "2022-12-06",
          "2022-12-07",
          "2022-12-08",
          "2022-12-09",
          "2022-12-10",
          "2022-12-11",
          "2022-12-12",
          "2022-12-13",
          "2022-12-14",
          "2022-12-15",
          "2022-12-16",
          "2022-12-17",
          "2022-12-18",
          "2022-12-19",
          "2022-12-20",
          "2022-12-21",
          "2022-12-22",
          "2022-12-23",
          "2022-12-24",
          "2022-12-25",
          "2022-12-26",
          "2022-12-27",
          "2022-12-28",
          "2022-12-29",
          "2022-12-30",
          "2022-12-31"
         ],
         "y": {
          "_inputArray": {
           "0": 11.6,
           "1": 11.4,
           "10": -5.4,
           "100": 8.8,
           "101": 13.4,
           "102": 15.4,
           "103": 16.3,
           "104": 15.7,
           "105": 15.7,
           "106": 8.3,
           "107": 7.9,
           "108": 7.6,
           "109": 9.4,
           "11": -1.9,
           "110": 10.6,
           "111": 14.6,
           "112": 13.299999999999999,
           "113": 12.8,
           "114": 10.4,
           "115": 11.5,
           "116": 11.6,
           "117": 8.2,
           "118": 10.4,
           "119": 12.9,
           "12": 4,
           "120": 13.599999999999998,
           "121": 12.1,
           "122": 12.4,
           "123": 12,
           "124": 17.2,
           "125": 14.8,
           "126": 10,
           "127": 10.4,
           "128": 13.5,
           "129": 15.399999999999999,
           "13": 4.8,
           "130": 16.1,
           "131": 17.1,
           "132": 16,
           "133": 17.9,
           "134": 18.8,
           "135": 20.4,
           "136": 19.7,
           "137": 17.8,
           "138": 15.5,
           "139": 15.399999999999999,
           "14": -6.7,
           "140": 21.2,
           "141": 27.8,
           "142": 21,
           "143": 17.4,
           "144": 16.2,
           "145": 16.4,
           "146": 20.2,
           "147": 20.4,
           "148": 20.7,
           "149": 23.300000000000004,
           "15": -8,
           "150": 28.3,
           "151": 17.8,
           "152": 20.3,
           "153": 19.5,
           "154": 21.9,
           "155": 20,
           "156": 22.199999999999996,
           "157": 21.8,
           "158": 23.7,
           "159": 24.399999999999995,
           "16": 3.9,
           "160": 21.8,
           "161": 21.8,
           "162": 20.5,
           "163": 24.199999999999996,
           "164": 23.9,
           "165": 23.3,
           "166": 20.3,
           "167": 25.2,
           "168": 21.7,
           "169": 17.3,
           "17": 1.8,
           "170": 20.5,
           "171": 22.1,
           "172": 19.1,
           "173": 19.2,
           "174": 21.9,
           "175": 25.8,
           "176": 27,
           "177": 24.3,
           "178": 22.4,
           "179": 23.9,
           "18": 3.2,
           "180": 25.4,
           "181": 28.1,
           "182": 28.699999999999996,
           "183": 26.9,
           "184": 25.6,
           "185": 25.9,
           "186": 26,
           "187": 24.2,
           "188": 23.5,
           "189": 24.7,
           "19": 5.1,
           "190": 23.4,
           "191": 24,
           "192": 25.8,
           "193": 28.9,
           "194": 26.6,
           "195": 26.1,
           "196": 24.3,
           "197": 25.7,
           "198": 26.2,
           "199": 28.2,
           "2": 1.4,
           "20": -6,
           "200": 31.3,
           "201": 29.800000000000004,
           "202": 30.9,
           "203": 30.3,
           "204": 31.1,
           "205": 29.8,
           "206": 25.899999999999995,
           "207": 25.5,
           "208": 26.7,
           "209": 28.2,
           "21": -5.9,
           "210": 26.7,
           "211": 26.3,
           "212": 23.1,
           "213": 26.399999999999995,
           "214": 27.6,
           "215": 29.1,
           "216": 29.3,
           "217": 29.6,
           "218": 29.6,
           "219": 30.300000000000004,
           "22": -0.7,
           "220": 31.3,
           "221": 27.2,
           "222": 26.6,
           "223": 25.6,
           "224": 23.1,
           "225": 24,
           "226": 24.3,
           "227": 23.6,
           "228": 23.6,
           "229": 24.1,
           "23": -0.2,
           "230": 26.3,
           "231": 27.9,
           "232": 25.3,
           "233": 24.5,
           "234": 25.9,
           "235": 26.9,
           "236": 28.1,
           "237": 27.4,
           "238": 27.8,
           "239": 24.6,
           "24": 3.6,
           "240": 26,
           "241": 26.8,
           "242": 25.6,
           "243": 25.9,
           "244": 21.7,
           "245": 22.8,
           "246": 25.3,
           "247": 25.8,
           "248": 23.3,
           "249": 20.8,
           "25": -2.3,
           "250": 21.8,
           "251": 21.9,
           "252": 23.6,
           "253": 23.2,
           "254": 22.4,
           "255": 24.7,
           "256": 22.9,
           "257": 21.8,
           "258": 19.6,
           "259": 20.8,
           "26": -4.2,
           "260": 23.4,
           "261": 25.6,
           "262": 23.2,
           "263": 22,
           "264": 21.800000000000004,
           "265": 15.1,
           "266": 14.5,
           "267": 19.2,
           "268": 19.4,
           "269": 19.7,
           "27": 0.1,
           "270": 17.2,
           "271": 16.6,
           "272": 14.5,
           "273": 14.8,
           "274": 15.2,
           "275": 11.5,
           "276": 10.3,
           "277": 13.8,
           "278": 17.6,
           "279": 20.3,
           "28": -4.8,
           "280": 13.9,
           "281": 12.3,
           "282": 15.8,
           "283": 17,
           "284": 17.9,
           "285": 18.7,
           "286": 15.7,
           "287": 16.2,
           "288": 16.1,
           "289": 16.6,
           "29": -7.1,
           "290": 12.6,
           "291": 10,
           "292": 11.1,
           "293": 13.4,
           "294": 14.4,
           "295": 14.7,
           "296": 14.1,
           "297": 16.9,
           "298": 18.3,
           "299": 16.9,
           "3": -2.7,
           "30": -3.4,
           "300": 11.3,
           "301": 10.8,
           "302": 12.5,
           "303": 14.4,
           "304": 16.9,
           "305": 17.6,
           "306": 15.7,
           "307": 15.2,
           "308": 19.4,
           "309": 19.8,
           "31": -1.7,
           "310": 21.3,
           "311": 13.2,
           "312": 8.7,
           "313": 12.6,
           "314": 16.4,
           "315": 19.7,
           "316": 12.9,
           "317": 6.3,
           "318": 4.9,
           "319": 7.3,
           "32": 2.3,
           "320": 5.7,
           "321": 4.5,
           "322": 2.8,
           "323": 2.7,
           "324": 1.1,
           "325": 6.6,
           "326": 9.4,
           "327": 8.1,
           "328": 10,
           "329": 9.3,
           "33": 6.3999999999999995,
           "330": 10.7,
           "331": 12.2,
           "332": 5.4,
           "333": 8.4,
           "334": 5.7,
           "335": 3.4,
           "336": 10.6,
           "337": 7,
           "338": 5.4,
           "339": 9.3,
           "34": 5.8,
           "340": 13.8,
           "341": 11.6,
           "342": 5.3,
           "343": 2.2,
           "344": 3.4,
           "345": 1.6000000000000003,
           "346": 0.3,
           "347": 1.7,
           "348": 2.7,
           "349": 6.2,
           "35": -2.8,
           "350": 5,
           "351": 3.1000000000000005,
           "352": 1.7,
           "353": 1.9,
           "354": 1,
           "355": 3.8,
           "356": 7.5,
           "357": -11.7,
           "358": -6.9,
           "359": -4.7,
           "36": -4.8,
           "360": -0.7,
           "361": 3.3999999999999995,
           "362": 6.400000000000001,
           "363": 9.3,
           "364": 8.2,
           "37": 0.5,
           "38": 4.1,
           "39": 2.8,
           "4": 3.2,
           "40": 6.3,
           "41": 8.6,
           "42": 11.8,
           "43": 2.8,
           "44": -4.3,
           "45": -4.7,
           "46": 1.6000000000000003,
           "47": 11.6,
           "48": 9.9,
           "49": 0.10000000000000002,
           "5": 4.9,
           "50": -2.6,
           "51": 4.1,
           "52": 5.6,
           "53": 14.4,
           "54": 1.1,
           "55": 0.8000000000000002,
           "56": -1.1,
           "57": 2.4,
           "58": 0.8,
           "59": 2.6,
           "6": 0.7,
           "60": 7.7,
           "61": 5.6,
           "62": -1.9,
           "63": 3.1000000000000005,
           "64": 9.6,
           "65": 18.2,
           "66": 8.7,
           "67": 3.2,
           "68": 4,
           "69": 7.2,
           "7": -2.5,
           "70": 5.1,
           "71": -2.3,
           "72": 5.299999999999999,
           "73": 11.6,
           "74": 13.6,
           "75": 8.2,
           "76": 13.900000000000002,
           "77": 13.100000000000001,
           "78": 14.3,
           "79": 10.4,
           "8": 1.4,
           "80": 10.7,
           "81": 7.2,
           "82": 5.7,
           "83": 9.6,
           "84": 10.4,
           "85": 5.9,
           "86": -1.5,
           "87": -1.2,
           "88": 2.6,
           "89": 9.9,
           "9": 1.6,
           "90": 13.1,
           "91": 7.2,
           "92": 7,
           "93": 7.6,
           "94": 9.7,
           "95": 8.6,
           "96": 9.1,
           "97": 12.8,
           "98": 11.4,
           "99": 8.6,
           "bdata": "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",
           "dtype": "f8",
           "shape": "365"
          },
          "bdata": "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",
          "dtype": "f8"
         },
         "yaxis": "y2"
        }
       ],
       "layout": {
        "autosize": true,
        "legend": {
         "x": 0.1,
         "y": 0.9
        },
        "template": {
         "data": {
          "candlestick": [
           {
            "decreasing": {
             "line": {
              "color": "#000033"
             }
            },
            "increasing": {
             "line": {
              "color": "#000032"
             }
            },
            "type": "candlestick"
           }
          ],
          "contour": [
           {
            "colorscale": [
             [
              0,
              "#000011"
             ],
             [
              0.1111111111111111,
              "#000012"
             ],
             [
              0.2222222222222222,
              "#000013"
             ],
             [
              0.3333333333333333,
              "#000014"
             ],
             [
              0.4444444444444444,
              "#000015"
             ],
             [
              0.5555555555555556,
              "#000016"
             ],
             [
              0.6666666666666666,
              "#000017"
             ],
             [
              0.7777777777777778,
              "#000018"
             ],
             [
              0.8888888888888888,
              "#000019"
             ],
             [
              1,
              "#000020"
             ]
            ],
            "type": "contour"
           }
          ],
          "contourcarpet": [
           {
            "colorscale": [
             [
              0,
              "#000011"
             ],
             [
              0.1111111111111111,
              "#000012"
             ],
             [
              0.2222222222222222,
              "#000013"
             ],
             [
              0.3333333333333333,
              "#000014"
             ],
             [
              0.4444444444444444,
              "#000015"
             ],
             [
              0.5555555555555556,
              "#000016"
             ],
             [
              0.6666666666666666,
              "#000017"
             ],
             [
              0.7777777777777778,
              "#000018"
             ],
             [
              0.8888888888888888,
              "#000019"
             ],
             [
              1,
              "#000020"
             ]
            ],
            "type": "contourcarpet"
           }
          ],
          "heatmap": [
           {
            "colorscale": [
             [
              0,
              "#000011"
             ],
             [
              0.1111111111111111,
              "#000012"
             ],
             [
              0.2222222222222222,
              "#000013"
             ],
             [
              0.3333333333333333,
              "#000014"
             ],
             [
              0.4444444444444444,
              "#000015"
             ],
             [
              0.5555555555555556,
              "#000016"
             ],
             [
              0.6666666666666666,
              "#000017"
             ],
             [
              0.7777777777777778,
              "#000018"
             ],
             [
              0.8888888888888888,
              "#000019"
             ],
             [
              1,
              "#000020"
             ]
            ],
            "type": "heatmap"
           }
          ],
          "histogram2d": [
           {
            "colorscale": [
             [
              0,
              "#000011"
             ],
             [
              0.1111111111111111,
              "#000012"
             ],
             [
              0.2222222222222222,
              "#000013"
             ],
             [
              0.3333333333333333,
              "#000014"
             ],
             [
              0.4444444444444444,
              "#000015"
             ],
             [
              0.5555555555555556,
              "#000016"
             ],
             [
              0.6666666666666666,
              "#000017"
             ],
             [
              0.7777777777777778,
              "#000018"
             ],
             [
              0.8888888888888888,
              "#000019"
             ],
             [
              1,
              "#000020"
             ]
            ],
            "type": "histogram2d"
           }
          ],
          "icicle": [
           {
            "textfont": {
             "color": "white"
            },
            "type": "icicle"
           }
          ],
          "sankey": [
           {
            "textfont": {
             "color": "#000036"
            },
            "type": "sankey"
           }
          ],
          "scatter": [
           {
            "marker": {
             "line": {
              "width": 0
             }
            },
            "type": "scatter"
           }
          ],
          "table": [
           {
            "cells": {
             "fill": {
              "color": "#000038"
             },
             "font": {
              "color": "#000037"
             },
             "line": {
              "color": "#000039"
             }
            },
            "header": {
             "fill": {
              "color": "#000040"
             },
             "font": {
              "color": "#000036"
             },
             "line": {
              "color": "#000039"
             }
            },
            "type": "table"
           }
          ],
          "waterfall": [
           {
            "connector": {
             "line": {
              "color": "#000036",
              "width": 2
             }
            },
            "decreasing": {
             "marker": {
              "color": "#000033"
             }
            },
            "increasing": {
             "marker": {
              "color": "#000032"
             }
            },
            "totals": {
             "marker": {
              "color": "#000034"
             }
            },
            "type": "waterfall"
           }
          ]
         },
         "layout": {
          "coloraxis": {
           "colorscale": [
            [
             0,
             "#000011"
            ],
            [
             0.1111111111111111,
             "#000012"
            ],
            [
             0.2222222222222222,
             "#000013"
            ],
            [
             0.3333333333333333,
             "#000014"
            ],
            [
             0.4444444444444444,
             "#000015"
            ],
            [
             0.5555555555555556,
             "#000016"
            ],
            [
             0.6666666666666666,
             "#000017"
            ],
            [
             0.7777777777777778,
             "#000018"
            ],
            [
             0.8888888888888888,
             "#000019"
            ],
            [
             1,
             "#000020"
            ]
           ]
          },
          "colorscale": {
           "diverging": [
            [
             0,
             "#000021"
            ],
            [
             0.1,
             "#000022"
            ],
            [
             0.2,
             "#000023"
            ],
            [
             0.3,
             "#000024"
            ],
            [
             0.4,
             "#000025"
            ],
            [
             0.5,
             "#000026"
            ],
            [
             0.6,
             "#000027"
            ],
            [
             0.7,
             "#000028"
            ],
            [
             0.8,
             "#000029"
            ],
            [
             0.9,
             "#000030"
            ],
            [
             1,
             "#000031"
            ]
           ],
           "sequential": [
            [
             0,
             "#000011"
            ],
            [
             0.1111111111111111,
             "#000012"
            ],
            [
             0.2222222222222222,
             "#000013"
            ],
            [
             0.3333333333333333,
             "#000014"
            ],
            [
             0.4444444444444444,
             "#000015"
            ],
            [
             0.5555555555555556,
             "#000016"
            ],
            [
             0.6666666666666666,
             "#000017"
            ],
            [
             0.7777777777777778,
             "#000018"
            ],
            [
             0.8888888888888888,
             "#000019"
            ],
            [
             1,
             "#000020"
            ]
           ],
           "sequentialminus": [
            [
             0,
             "#000011"
            ],
            [
             0.1111111111111111,
             "#000012"
            ],
            [
             0.2222222222222222,
             "#000013"
            ],
            [
             0.3333333333333333,
             "#000014"
            ],
            [
             0.4444444444444444,
             "#000015"
            ],
            [
             0.5555555555555556,
             "#000016"
            ],
            [
             0.6666666666666666,
             "#000017"
            ],
            [
             0.7777777777777778,
             "#000018"
            ],
            [
             0.8888888888888888,
             "#000019"
            ],
            [
             1,
             "#000020"
            ]
           ]
          },
          "colorway": [
           "#000001",
           "#000002",
           "#000003",
           "#000004",
           "#000005",
           "#000006",
           "#000007",
           "#000008",
           "#000009",
           "#000010"
          ]
         }
        },
        "title": {
         "text": "Daily CitiBike Trips vs. Temperature (2022)"
        },
        "xaxis": {
         "autorange": true,
         "range": [
          "2022-01-01",
          "2022-12-31"
         ],
         "title": {
          "text": "Date"
         },
         "type": "date"
        },
        "yaxis": {
         "autorange": true,
         "range": [
          -134.33333333333334,
          4772.333333333333
         ],
         "side": "left",
         "title": {
          "text": "Trip Count"
         },
         "type": "linear"
        },
        "yaxis2": {
         "autorange": true,
         "overlaying": "y",
         "range": [
          -14.088888888888889,
          33.68888888888889
         ],
         "side": "right",
         "title": {
          "text": "Temperature (°C)"
         },
         "type": "linear"
        }
       }
      },
      "image/png": "[encoded data removed]"
     },
     "metadata": {},
     "output_type": "display_data"
    }
   ],
   "source": [
    "fig_line = go.Figure()\n",
    "\n",
    "# Add trip counts\n",
    "fig_line.add_trace(go.Scatter(\n",
    "    x=daily[\"date\"], y=daily[\"trip_count\"],\n",
    "    name=\"Trip Count\", yaxis=\"y1\", line=dict(color=\"blue\")\n",
    "))\n",
    "\n",
    "# Add temperature\n",
    "fig_line.add_trace(go.Scatter(\n",
    "    x=daily[\"date\"], y=daily[\"temperature\"],\n",
    "    name=\"Temperature (°C)\", yaxis=\"y2\", line=dict(color=\"red\")\n",
    "))\n",
    "\n",
    "# Layout with dual axis\n",
    "fig_line.update_layout(\n",
    "    title=\"Daily CitiBike Trips vs. Temperature (2022)\",\n",
    "    xaxis=dict(title=\"Date\"),\n",
    "    yaxis=dict(title=\"Trip Count\", side=\"left\"),\n",
    "    yaxis2=dict(title=\"Temperature (°C)\", overlaying=\"y\", side=\"right\"),\n",
    "    legend=dict(x=0.1, y=0.9)\n",
    ")\n",
    "fig_line.show()\n"
   ]
  },
  {
   "cell_type": "markdown",
   "id": "533c3c80-c99f-48d1-ae62-a266673d561b",
   "metadata": {},
   "source": [
    "# Create Streamlit app"
   ]
  },
  {
   "cell_type": "code",
   "execution_count": 37,
   "id": "dfd1a448-5474-4f83-9545-adef92879df5",
   "metadata": {},
   "outputs": [
    {
     "name": "stderr",
     "output_type": "stream",
     "text": [
      "2025-10-01 18:36:26.004 Thread 'MainThread': missing ScriptRunContext! This warning can be ignored when running in bare mode.\n",
      "2025-10-01 18:36:26.004 Thread 'MainThread': missing ScriptRunContext! This warning can be ignored when running in bare mode.\n",
      "2025-10-01 18:36:26.004 Thread 'MainThread': missing ScriptRunContext! This warning can be ignored when running in bare mode.\n",
      "2025-10-01 18:36:26.004 Thread 'MainThread': missing ScriptRunContext! This warning can be ignored when running in bare mode.\n",
      "2025-10-01 18:36:26.011 Thread 'MainThread': missing ScriptRunContext! This warning can be ignored when running in bare mode.\n",
      "2025-10-01 18:36:26.012 Thread 'MainThread': missing ScriptRunContext! This warning can be ignored when running in bare mode.\n",
      "2025-10-01 18:36:26.013 Thread 'MainThread': missing ScriptRunContext! This warning can be ignored when running in bare mode.\n",
      "2025-10-01 18:36:29.968 Thread 'MainThread': missing ScriptRunContext! This warning can be ignored when running in bare mode.\n",
      "2025-10-01 18:36:29.968 Thread 'MainThread': missing ScriptRunContext! This warning can be ignored when running in bare mode.\n",
      "2025-10-01 18:36:29.968 Thread 'MainThread': missing ScriptRunContext! This warning can be ignored when running in bare mode.\n",
      "2025-10-01 18:36:29.972 Thread 'MainThread': missing ScriptRunContext! This warning can be ignored when running in bare mode.\n",
      "2025-10-01 18:36:29.972 Thread 'MainThread': missing ScriptRunContext! This warning can be ignored when running in bare mode.\n",
      "2025-10-01 18:36:30.063 Thread 'MainThread': missing ScriptRunContext! This warning can be ignored when running in bare mode.\n",
      "2025-10-01 18:36:30.064 Thread 'MainThread': missing ScriptRunContext! This warning can be ignored when running in bare mode.\n",
      "2025-10-01 18:36:30.064 Thread 'MainThread': missing ScriptRunContext! This warning can be ignored when running in bare mode.\n",
      "2025-10-01 18:36:30.064 Thread 'MainThread': missing ScriptRunContext! This warning can be ignored when running in bare mode.\n",
      "2025-10-01 18:36:30.064 Thread 'MainThread': missing ScriptRunContext! This warning can be ignored when running in bare mode.\n",
      "2025-10-01 18:36:30.064 Thread 'MainThread': missing ScriptRunContext! This warning can be ignored when running in bare mode.\n",
      "2025-10-01 18:36:30.064 Thread 'MainThread': missing ScriptRunContext! This warning can be ignored when running in bare mode.\n",
      "2025-10-01 18:36:30.064 Thread 'MainThread': missing ScriptRunContext! This warning can be ignored when running in bare mode.\n",
      "2025-10-01 18:36:30.064 Thread 'MainThread': missing ScriptRunContext! This warning can be ignored when running in bare mode.\n",
      "2025-10-01 18:36:30.064 Thread 'MainThread': missing ScriptRunContext! This warning can be ignored when running in bare mode.\n",
      "2025-10-01 18:36:30.064 Thread 'MainThread': missing ScriptRunContext! This warning can be ignored when running in bare mode.\n",
      "2025-10-01 18:36:30.280 Thread 'MainThread': missing ScriptRunContext! This warning can be ignored when running in bare mode.\n",
      "2025-10-01 18:36:30.281 Thread 'MainThread': missing ScriptRunContext! This warning can be ignored when running in bare mode.\n",
      "2025-10-01 18:36:30.290 Thread 'MainThread': missing ScriptRunContext! This warning can be ignored when running in bare mode.\n"
     ]
    },
    {
     "data": {
      "text/plain": [
       "DeltaGenerator()"
      ]
     },
     "execution_count": 37,
     "metadata": {},
     "output_type": "execute_result"
    }
   ],
   "source": [
    "import streamlit as st\n",
    "import pandas as pd \n",
    "import numpy as np\n",
    "from plotly.subplots import make_subplots\n",
    "import plotly.graph_objects as go\n",
    "import matplotlib.pyplot as plt\n",
    "from streamlit_keplergl import keplergl_static \n",
    "from keplergl import KeplerGl\n",
    "from datetime import datetime as dt\n",
    "import plotly.express as px\n",
    "from pathlib import Path\n",
    "\n",
    "# Page config\n",
    "st.set_page_config(page_title=\"NYC Bike Dashboard\", layout=\"wide\")\n",
    "st.title(\"New York City Bike Dashboard\")\n",
    "st.write(\"This dashboard shows the most popular bike stations and trends of bike trips vs temperature.\")\n",
    "\n",
    "# setting dataframe path\n",
    "data = Path(\"C:/Users/faisa/Desktop/Data analysis/Python Specialization/Achievement 2/02 Data/Updated Data/df_2.4.csv\")\n",
    "\n",
    "# loading the merged dataframe of weather + trips\n",
    "df = pd.read_csv(data, index_col=0)\n",
    "\n",
    "# create trips column\n",
    "df['trips'] = 1\n",
    "\n",
    "# Top stations bar chart\n",
    "top_stations = df['start_station_name'].value_counts().head(10).reset_index()\n",
    "top_stations.columns = ['station', 'trips']\n",
    "\n",
    "fig_bar = px.bar(top_stations, x='station', y='trips', \n",
    "                 color='trips', color_continuous_scale='Viridis',\n",
    "                 title='Top 10 Most Popular Bike Stations')\n",
    "fig_bar.update_layout(xaxis_tickangle=-45)\n",
    "\n",
    "st.plotly_chart(fig_bar, use_container_width=True)\n",
    "\n",
    "# Dual-axis line chart\n",
    "daily_data = df.groupby('date').agg({'trips':'sum', 'temperature':'mean'}).reset_index()\n",
    "\n",
    "fig_line = go.Figure()\n",
    "fig_line.add_trace(go.Scatter(x=daily_data['date'], y=daily_data['trips'], name='Trips', yaxis='y1', mode='lines+markers'))\n",
    "fig_line.add_trace(go.Scatter(x=daily_data['date'], y=daily_data['temperature'], name='Temperature', yaxis='y2', mode='lines', line=dict(dash='dash')))\n",
    "\n",
    "fig_line.update_layout(\n",
    "    title='Daily Bike Trips vs Temperature',\n",
    "    xaxis=dict(title='Date'),\n",
    "    yaxis=dict(title='Number of Trips'),\n",
    "    yaxis2=dict(title='Temperature (°C)', overlaying='y', side='right')\n",
    ")\n",
    "\n",
    "st.plotly_chart(fig_line, use_container_width=True)\n",
    "\n",
    "# Kepler map\n",
    "st.subheader(\"NYC Bike Trips Map\")\n",
    "st.write(\"Interactive map of bike trips.\")\n",
    "\n",
    "# Load pre-generated Kepler HTML\n",
    "with open(\"2.5_Citibike_bike_trips.html\", \"r\", encoding=\"utf-8\") as f:\n",
    "    kepler_html = f.read()\n",
    "\n",
    "st.components.v1.html(kepler_html, height=600, scrolling=True)"
   ]
  },
  {
   "cell_type": "code",
   "execution_count": null,
   "id": "407a35b1-23cc-40aa-806f-9fed8601ac38",
   "metadata": {},
   "outputs": [],
   "source": []
  }
 ],
 "metadata": {
  "kernelspec": {
   "display_name": "Python [conda env:citibike]",
   "language": "python",
   "name": "conda-env-citibike-py"
  },
  "language_info": {
   "codemirror_mode": {
    "name": "ipython",
    "version": 3
   },
   "file_extension": ".py",
   "mimetype": "text/x-python",
   "name": "python",
   "nbconvert_exporter": "python",
   "pygments_lexer": "ipython3",
   "version": "3.10.18"
  }
 },
 "nbformat": 4,
 "nbformat_minor": 5
}
